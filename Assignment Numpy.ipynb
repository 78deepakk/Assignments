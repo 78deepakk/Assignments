{
 "cells": [
  {
   "cell_type": "code",
   "execution_count": 2,
   "id": "c3b9bbfe-0b68-4477-afe4-13b5c0feed04",
   "metadata": {},
   "outputs": [],
   "source": [
    "# Q 1:- Creat a numpy array'arr' of integers from 0 to 5 and print its data type.\n",
    "import numpy as np"
   ]
  },
  {
   "cell_type": "code",
   "execution_count": 5,
   "id": "04c04f9c-242b-4994-8f65-7d2974d14f63",
   "metadata": {},
   "outputs": [],
   "source": [
    "arr = np.array([1,2,3,4,5])"
   ]
  },
  {
   "cell_type": "code",
   "execution_count": 6,
   "id": "baa869cc-fa20-45bb-bf0e-85b8500f7f3c",
   "metadata": {},
   "outputs": [
    {
     "data": {
      "text/plain": [
       "array([1, 2, 3, 4, 5])"
      ]
     },
     "execution_count": 6,
     "metadata": {},
     "output_type": "execute_result"
    }
   ],
   "source": [
    "arr"
   ]
  },
  {
   "cell_type": "code",
   "execution_count": 7,
   "id": "c7d4385f-dc59-476f-8136-582a8bf340e2",
   "metadata": {},
   "outputs": [
    {
     "data": {
      "text/plain": [
       "dtype('int32')"
      ]
     },
     "execution_count": 7,
     "metadata": {},
     "output_type": "execute_result"
    }
   ],
   "source": [
    "arr.dtype"
   ]
  },
  {
   "cell_type": "code",
   "execution_count": 9,
   "id": "1377ea2c-4321-45f9-96a2-704172975b09",
   "metadata": {},
   "outputs": [],
   "source": [
    "# Q 2:- Given a numpy array 'arr', check if its data type is floot64.\n",
    "arr = np.array([1.5,2.6,3.7])"
   ]
  },
  {
   "cell_type": "code",
   "execution_count": 10,
   "id": "c8a6a820-ca45-4192-ad06-0fd75f4d8cd5",
   "metadata": {},
   "outputs": [
    {
     "data": {
      "text/plain": [
       "dtype('float64')"
      ]
     },
     "execution_count": 10,
     "metadata": {},
     "output_type": "execute_result"
    }
   ],
   "source": [
    "arr.dtype"
   ]
  },
  {
   "cell_type": "code",
   "execution_count": 11,
   "id": "11424345-f8a7-48cf-8c5d-21ad8808d62d",
   "metadata": {},
   "outputs": [],
   "source": [
    "# Q 3 :- create a numpy 'arr' with a data type of complex128 containing three complex numbers\n",
    "arr = np.array([1+2j,2+3j,3+4j])"
   ]
  },
  {
   "cell_type": "code",
   "execution_count": 13,
   "id": "e540273e-46f6-4f31-8166-1fdc4c246e00",
   "metadata": {},
   "outputs": [
    {
     "data": {
      "text/plain": [
       "dtype('complex128')"
      ]
     },
     "execution_count": 13,
     "metadata": {},
     "output_type": "execute_result"
    }
   ],
   "source": [
    "arr.dtype"
   ]
  },
  {
   "cell_type": "code",
   "execution_count": 16,
   "id": "1061419d-5f2a-449c-a199-03cae8b919ee",
   "metadata": {},
   "outputs": [],
   "source": [
    "# Q 4:- convert an existing numpy array 'arr' of integers to floot32 data type\n",
    "arr = np.array([1,2,3,4])\n",
    "arr = arr.astype(float)"
   ]
  },
  {
   "cell_type": "code",
   "execution_count": 17,
   "id": "03d4298d-7c1c-42b4-a6de-2fb094be53fc",
   "metadata": {},
   "outputs": [
    {
     "data": {
      "text/plain": [
       "array([1., 2., 3., 4.])"
      ]
     },
     "execution_count": 17,
     "metadata": {},
     "output_type": "execute_result"
    }
   ],
   "source": [
    "arr"
   ]
  },
  {
   "cell_type": "code",
   "execution_count": 19,
   "id": "4e1ac39f-c7ad-4483-879a-e0fe14019bb9",
   "metadata": {},
   "outputs": [
    {
     "data": {
      "text/plain": [
       "dtype('float64')"
      ]
     },
     "execution_count": 19,
     "metadata": {},
     "output_type": "execute_result"
    }
   ],
   "source": [
    "arr.dtype"
   ]
  },
  {
   "cell_type": "code",
   "execution_count": 24,
   "id": "0360e1c8-3990-45b0-9be1-d3530100f5bc",
   "metadata": {},
   "outputs": [],
   "source": [
    "# Q 5 :- given a numpy 'arr' with floot64 data type, convert it to floot32 to reduce decimal precision\n",
    "arr = np.array([1.234567,2.345678], dtype = np.float64)"
   ]
  },
  {
   "cell_type": "code",
   "execution_count": 25,
   "id": "6c8d5f7b-f605-4415-92e5-64d2bcf13d72",
   "metadata": {},
   "outputs": [
    {
     "data": {
      "text/plain": [
       "dtype('float64')"
      ]
     },
     "execution_count": 25,
     "metadata": {},
     "output_type": "execute_result"
    }
   ],
   "source": [
    "arr.dtype"
   ]
  },
  {
   "cell_type": "code",
   "execution_count": 30,
   "id": "ff619966-0d51-4978-9d76-804c8fc8bf9b",
   "metadata": {},
   "outputs": [],
   "source": [
    "arr = arr.astype(np.float32)"
   ]
  },
  {
   "cell_type": "code",
   "execution_count": 31,
   "id": "b6fa8860-ddc8-43a1-a420-c9c0074069a3",
   "metadata": {},
   "outputs": [
    {
     "data": {
      "text/plain": [
       "dtype('float32')"
      ]
     },
     "execution_count": 31,
     "metadata": {},
     "output_type": "execute_result"
    }
   ],
   "source": [
    "arr.dtype"
   ]
  },
  {
   "cell_type": "code",
   "execution_count": 42,
   "id": "67a44094-2336-43ba-84f6-d1ba809a191a",
   "metadata": {},
   "outputs": [],
   "source": [
    "# Q 6 :- white a function array_attributes that takes a numpy array as input and returns its shape, siz and data type"
   ]
  },
  {
   "cell_type": "code",
   "execution_count": 46,
   "id": "a1fdcbfc-3d4e-4ec6-b3ab-20b6cc58cf73",
   "metadata": {},
   "outputs": [],
   "source": [
    "def array_attributes(arr):\n",
    "    return arr.shape, arr.size, arr.dtype"
   ]
  },
  {
   "cell_type": "code",
   "execution_count": 47,
   "id": "79921221-4bca-4d30-9c29-53d46b5d300f",
   "metadata": {},
   "outputs": [
    {
     "name": "stdout",
     "output_type": "stream",
     "text": [
      "Shape: (2, 3), Size: 6, Data type: int32\n"
     ]
    }
   ],
   "source": [
    "arr = np.array([[1, 2, 3], [4, 5, 6]])\n",
    "shape, size, dtype = array_attributes(arr)\n",
    "print(f\"Shape: {shape}, Size: {size}, Data type: {dtype}\")"
   ]
  },
  {
   "cell_type": "code",
   "execution_count": 48,
   "id": "40aa3eb5-ff4b-4156-95fd-f071f88d4d2e",
   "metadata": {},
   "outputs": [],
   "source": [
    "# Q 7 :- create a function array_dimension that tales a numpy array as iput and returns its dimensionality\n",
    "def array_dimenion(arr):\n",
    "    return arr.ndim"
   ]
  },
  {
   "cell_type": "code",
   "execution_count": 49,
   "id": "726c7ecd-af6c-4cb4-9808-ad833678d586",
   "metadata": {},
   "outputs": [
    {
     "name": "stdout",
     "output_type": "stream",
     "text": [
      "dimenion 2\n"
     ]
    }
   ],
   "source": [
    "arr = np.array([[1,2,3],[4,5,6]])\n",
    "dim = array_dimenion(arr)\n",
    "print(f\"dimenion {dim}\")"
   ]
  },
  {
   "cell_type": "code",
   "execution_count": 54,
   "id": "60defb58-518e-4604-ba99-32229539a1cb",
   "metadata": {},
   "outputs": [],
   "source": [
    "# Q 8 :- Design a function item_size_info that takes a NumPy array as input and returns the item size and the total size in bytes.\n",
    "\n",
    "def item_size_info(arr):\n",
    "    item_size = arr.itemsize\n",
    "    total_size = arr.nbytes\n",
    "    return item_size, total_size"
   ]
  },
  {
   "cell_type": "code",
   "execution_count": 55,
   "id": "79f18ae3-22ce-4e98-a8ac-4db25b6f3145",
   "metadata": {},
   "outputs": [
    {
     "name": "stdout",
     "output_type": "stream",
     "text": [
      "Item size: 4 bytes, Total size: 16 bytes\n"
     ]
    }
   ],
   "source": [
    "arr = np.array([[1, 2], [3, 4]], dtype=np.int32)\n",
    "item_size, total_size = item_size_info(arr)\n",
    "print(f\"Item size: {item_size} bytes, Total size: {total_size} bytes\")\n"
   ]
  },
  {
   "cell_type": "code",
   "execution_count": 56,
   "id": "6e48f7d2-7b73-43d1-b77e-0f4e972faf25",
   "metadata": {},
   "outputs": [],
   "source": [
    "# Q 9:-  Create a function array_strides that takes a NumPy array as input and returns the strides of the array.\n",
    "def item_size_info(arr):\n",
    "    return arr.shape, arr.strides"
   ]
  },
  {
   "cell_type": "code",
   "execution_count": 57,
   "id": "28b64a30-c151-48ac-94ca-e6121f07fdcc",
   "metadata": {},
   "outputs": [
    {
     "name": "stdout",
     "output_type": "stream",
     "text": [
      "shap: (2, 2), strides(8, 4)\n"
     ]
    }
   ],
   "source": [
    "arr = np.array([[1,2],[3,4]])\n",
    "shap, strides = item_size_info(arr)\n",
    "print(f\"shap: {shap}, strides{strides}\")"
   ]
  },
  {
   "cell_type": "code",
   "execution_count": 58,
   "id": "bd67b45a-55ff-4107-9b7f-8835307e05a2",
   "metadata": {},
   "outputs": [],
   "source": [
    "# Q 10:-  Design a function shape_stride_relationship that takes a NumPy array as input and returns the shape and strides of the array.\n",
    "def shape_stride_relationship(arr):\n",
    "    return arr.shape, arr.strides\n"
   ]
  },
  {
   "cell_type": "code",
   "execution_count": 59,
   "id": "17ac9445-2a64-4253-899d-33be27b5eb43",
   "metadata": {},
   "outputs": [
    {
     "name": "stdout",
     "output_type": "stream",
     "text": [
      "Shape: (2, 2), Strides: (8, 4)\n"
     ]
    }
   ],
   "source": [
    "arr = np.array([[1, 2], [3, 4]], dtype=np.int32)\n",
    "shape, strides = shape_stride_relationship(arr)\n",
    "print(f\"Shape: {shape}, Strides: {strides}\")"
   ]
  },
  {
   "cell_type": "code",
   "execution_count": 1,
   "id": "669fddfd-ef19-48e9-8f28-fdde2e7281e1",
   "metadata": {},
   "outputs": [],
   "source": [
    "# Q 11:-  Create a function `create_zeros_array` that takes an integer `n` as input and returns a NumPy array of zeros with `n` elements.\n",
    "import numpy as np\n",
    "\n",
    "def create_zeros_array(n):\n",
    "    return np.zeros(n)\n"
   ]
  },
  {
   "cell_type": "code",
   "execution_count": 2,
   "id": "d80ab6a3-a7f5-4ce6-bda5-7d8023551b44",
   "metadata": {},
   "outputs": [
    {
     "data": {
      "text/plain": [
       "array([0., 0., 0., 0., 0.])"
      ]
     },
     "execution_count": 2,
     "metadata": {},
     "output_type": "execute_result"
    }
   ],
   "source": [
    "arr = create_zeros_array(5)\n",
    "arr"
   ]
  },
  {
   "cell_type": "code",
   "execution_count": 3,
   "id": "b3934412-6dd1-4c9e-a60a-1aa735a4b412",
   "metadata": {},
   "outputs": [],
   "source": [
    "# Q 12 :- Write a function `create_ones_matrix` that takes integers `rows` and `cols` as inputs and generates a 2D NumPy array filled\n",
    "#with ones of size `rows x cols`.\n",
    "def create_ones_matrix(rows, cols):\n",
    "    return np.ones((rows, cols))"
   ]
  },
  {
   "cell_type": "code",
   "execution_count": 4,
   "id": "60ee8d38-efba-45a5-9eac-32b0b561f2b8",
   "metadata": {},
   "outputs": [
    {
     "name": "stdout",
     "output_type": "stream",
     "text": [
      "[[1. 1. 1. 1.]\n",
      " [1. 1. 1. 1.]\n",
      " [1. 1. 1. 1.]]\n"
     ]
    }
   ],
   "source": [
    "matrix = create_ones_matrix(3, 4)\n",
    "print(matrix)"
   ]
  },
  {
   "cell_type": "code",
   "execution_count": 5,
   "id": "6b0035ad-b035-44cd-b1f1-1f7b43200701",
   "metadata": {},
   "outputs": [],
   "source": [
    "# Q 13 :- Write a function `generate_range_array` that takes three integers start, stop, and step as arguments and creates a NumPyarray\n",
    "#with a range starting from `start`, ending at stop (exclusive), and with the specified step`.\n",
    "def generate_range_array(start, stop, step):\n",
    "    return np.arange(start, stop, step)"
   ]
  },
  {
   "cell_type": "code",
   "execution_count": 6,
   "id": "7054698c-be65-47fd-b5c2-1e5b5cd3f0f5",
   "metadata": {},
   "outputs": [
    {
     "name": "stdout",
     "output_type": "stream",
     "text": [
      "[2 4 6 8]\n"
     ]
    }
   ],
   "source": [
    "arr = generate_range_array(2, 10, 2)\n",
    "print(arr)"
   ]
  },
  {
   "cell_type": "code",
   "execution_count": 9,
   "id": "7dadb7e6-86f6-42a4-a01e-ebde88955cee",
   "metadata": {},
   "outputs": [],
   "source": [
    "# Q 14:-  Design a function `generate_linear_space` that takes two floats `start`, `stop`, and an integer `num` as arguments and generatesa NumPy\n",
    "#array with num equally spaced values between `start` and `stop` (inclusive).\n",
    "def generate_linear_space(start, stop, num):\n",
    "    return np.linspace(start, stop, num)"
   ]
  },
  {
   "cell_type": "code",
   "execution_count": 10,
   "id": "856f286c-ba5b-4162-b8e6-6ca27675e77c",
   "metadata": {},
   "outputs": [
    {
     "name": "stdout",
     "output_type": "stream",
     "text": [
      "[0.   0.25 0.5  0.75 1.  ]\n"
     ]
    }
   ],
   "source": [
    "arr = generate_linear_space(0.0, 1.0, 5)\n",
    "print(arr)"
   ]
  },
  {
   "cell_type": "code",
   "execution_count": 11,
   "id": "ba341a52-0856-47f5-b261-e8e1f6ee7633",
   "metadata": {},
   "outputs": [],
   "source": [
    "# Q 15:-  Create a function `create_identity_matrix` that takes an integer `n` as input and generates a square identity matrix of size `n x n`\n",
    "#using `numpy.eye`.\n",
    "def create_identity_matrix(n):\n",
    "    return np.eye(n)"
   ]
  },
  {
   "cell_type": "code",
   "execution_count": 12,
   "id": "4a1b0784-6837-4c59-812a-251cf1391ecd",
   "metadata": {},
   "outputs": [
    {
     "name": "stdout",
     "output_type": "stream",
     "text": [
      "[[1. 0. 0. 0.]\n",
      " [0. 1. 0. 0.]\n",
      " [0. 0. 1. 0.]\n",
      " [0. 0. 0. 1.]]\n"
     ]
    }
   ],
   "source": [
    "identity = create_identity_matrix(4)\n",
    "print(identity)"
   ]
  },
  {
   "cell_type": "code",
   "execution_count": 13,
   "id": "b3da8f8f-d1a2-4894-a274-5370eb50c058",
   "metadata": {},
   "outputs": [],
   "source": [
    "# Q 16:-  Write a function that takes a Python list and converts it into a NumPy array.\n",
    "def list_to_array(lst):\n",
    "    return np.array(lst)"
   ]
  },
  {
   "cell_type": "code",
   "execution_count": 14,
   "id": "acfc0576-b5c0-4216-a7b0-51855bcb41e3",
   "metadata": {},
   "outputs": [
    {
     "name": "stdout",
     "output_type": "stream",
     "text": [
      "[1 2 3 4]\n"
     ]
    }
   ],
   "source": [
    "my_list = [1, 2, 3, 4]\n",
    "arr = list_to_array(my_list)\n",
    "print(arr)"
   ]
  },
  {
   "cell_type": "code",
   "execution_count": 15,
   "id": "5f29ce9c-7f80-47d1-a487-b011f8af9546",
   "metadata": {},
   "outputs": [
    {
     "name": "stdout",
     "output_type": "stream",
     "text": [
      "Original Array:\n",
      "[10 20 30 40]\n",
      "\n",
      "View Array:\n",
      "[10 20 30 40]\n"
     ]
    }
   ],
   "source": [
    "# Q 17:- Create a NumPy array and demonstrate the use of `numpy.view` to create a new array object with the same data.\n",
    "original_array = np.array([10, 20, 30, 40])\n",
    "\n",
    "view_array = original_array.view()\n",
    "\n",
    "print(\"Original Array:\")\n",
    "print(original_array)\n",
    "\n",
    "print(\"\\nView Array:\")\n",
    "print(view_array)"
   ]
  },
  {
   "cell_type": "code",
   "execution_count": 16,
   "id": "ad3515c2-112c-4a11-9090-048dd48a471b",
   "metadata": {},
   "outputs": [],
   "source": [
    "# Q 18 :-  Write a function that takes two NumPy arrays and concatenates them along a specified axis\n",
    "def concatenate_arrays(arr1, arr2, axis=0):\n",
    "    return np.concatenate((arr1, arr2), axis=axis)"
   ]
  },
  {
   "cell_type": "code",
   "execution_count": 17,
   "id": "ec6567cc-d739-47e7-b484-7368a435cad8",
   "metadata": {},
   "outputs": [
    {
     "name": "stdout",
     "output_type": "stream",
     "text": [
      "Concatenated along axis 0:\n",
      " [[1 2]\n",
      " [3 4]\n",
      " [5 6]\n",
      " [7 8]]\n",
      "\n",
      "Concatenated along axis 1:\n",
      " [[1 2 5 6]\n",
      " [3 4 7 8]]\n"
     ]
    }
   ],
   "source": [
    "a = np.array([[1, 2], [3, 4]])\n",
    "b = np.array([[5, 6], [7, 8]])\n",
    "\n",
    "result = concatenate_arrays(a, b, axis=0)\n",
    "print(\"Concatenated along axis 0:\\n\", result)\n",
    "\n",
    "result = concatenate_arrays(a, b, axis=1)\n",
    "print(\"\\nConcatenated along axis 1:\\n\", result)"
   ]
  },
  {
   "cell_type": "code",
   "execution_count": 18,
   "id": "0e4d1982-5eff-4fa9-8d59-e05670717a0c",
   "metadata": {},
   "outputs": [
    {
     "name": "stdout",
     "output_type": "stream",
     "text": [
      "Result of horizontal concatenation:\n",
      "[[ 1  2  5  6  7]\n",
      " [ 3  4  8  9 10]]\n"
     ]
    }
   ],
   "source": [
    "# Q 19:- Create two NumPy arrays with different shapes and concatenate them horizontally using `numpy. concatenate`.\n",
    "arr1 = np.array([[1, 2],\n",
    "                 [3, 4]])\n",
    "\n",
    "arr2 = np.array([[5, 6, 7],\n",
    "                 [8, 9, 10]])\n",
    "\n",
    "# Concatenate horizontally (axis=1)\n",
    "result = np.concatenate((arr1, arr2), axis=1)\n",
    "\n",
    "print(\"Result of horizontal concatenation:\")\n",
    "print(result)"
   ]
  },
  {
   "cell_type": "code",
   "execution_count": 19,
   "id": "53221169-8ad7-4cf0-9e87-062a577afeba",
   "metadata": {},
   "outputs": [],
   "source": [
    "# Q 20:- Write a function that vertically stacks multiple NumPy arrays given as a list.\n",
    "def vertical_stack(arrays):\n",
    "    return np.vstack(arrays)"
   ]
  },
  {
   "cell_type": "code",
   "execution_count": 20,
   "id": "35bb59d8-46bb-4f78-847f-30c859e429d6",
   "metadata": {},
   "outputs": [
    {
     "name": "stdout",
     "output_type": "stream",
     "text": [
      "Vertically stacked array:\n",
      "[[1 2 3]\n",
      " [4 5 6]\n",
      " [7 8 9]]\n"
     ]
    }
   ],
   "source": [
    "a = np.array([1, 2, 3])\n",
    "b = np.array([4, 5, 6])\n",
    "c = np.array([7, 8, 9])\n",
    "\n",
    "# Stack vertically\n",
    "result = vertical_stack([a, b, c])\n",
    "\n",
    "print(\"Vertically stacked array:\")\n",
    "print(result)\n"
   ]
  },
  {
   "cell_type": "code",
   "execution_count": 21,
   "id": "ffb63f53-669b-4a4d-a80d-ecf918a03bdb",
   "metadata": {},
   "outputs": [],
   "source": [
    "# Q 21:-  Write a Python function using NumPy to create an array of integers within a specified range (inclusive) with a given step size.\n",
    "def create_range_array(start, stop, step):\n",
    "    return np.arange(start, stop + 1, step)"
   ]
  },
  {
   "cell_type": "code",
   "execution_count": 22,
   "id": "f9948def-7409-4c6f-a10a-2c1ca8d45675",
   "metadata": {},
   "outputs": [
    {
     "name": "stdout",
     "output_type": "stream",
     "text": [
      "[1 3 5 7 9]\n"
     ]
    }
   ],
   "source": [
    "arr = create_range_array(1, 10, 2)\n",
    "print(arr)"
   ]
  },
  {
   "cell_type": "code",
   "execution_count": 23,
   "id": "71f1dd75-ad5c-4b45-b380-74a29ff11fb6",
   "metadata": {},
   "outputs": [],
   "source": [
    "# Q 22:-Write a Python function using NumPy to generate an array of 10 equally spaced values between 0 and 1 (inclusive).\n",
    "def generate_equally_spaced_array():\n",
    "    return np.linspace(0, 1, 10)"
   ]
  },
  {
   "cell_type": "code",
   "execution_count": 24,
   "id": "373b777a-f66b-431a-a48d-8b29cf727094",
   "metadata": {},
   "outputs": [
    {
     "name": "stdout",
     "output_type": "stream",
     "text": [
      "[0.         0.11111111 0.22222222 0.33333333 0.44444444 0.55555556\n",
      " 0.66666667 0.77777778 0.88888889 1.        ]\n"
     ]
    }
   ],
   "source": [
    "arr = generate_equally_spaced_array()\n",
    "print(arr)"
   ]
  },
  {
   "cell_type": "code",
   "execution_count": 25,
   "id": "1bf17230-de51-4044-9f79-ad03ead842a5",
   "metadata": {},
   "outputs": [],
   "source": [
    "# Q 23:- . Write a Python function using NumPy to create an array of 5 logarithmically spaced values between 1 and 1000 (inclusive).\n",
    "def generate_log_spaced_array():\n",
    "    return np.logspace(0, 3, 5) "
   ]
  },
  {
   "cell_type": "code",
   "execution_count": 26,
   "id": "7c18c147-aa26-42bb-9c68-2ec7b4536c95",
   "metadata": {},
   "outputs": [
    {
     "name": "stdout",
     "output_type": "stream",
     "text": [
      "[   1.            5.62341325   31.6227766   177.827941   1000.        ]\n"
     ]
    }
   ],
   "source": [
    "arr = generate_log_spaced_array()\n",
    "print(arr)"
   ]
  },
  {
   "cell_type": "code",
   "execution_count": 27,
   "id": "2bf0f740-76bd-410c-b943-85708151ca8b",
   "metadata": {},
   "outputs": [],
   "source": [
    "# Q 24:-Create a Pandas DataFrame using a NumPy array that contains 5 rows and 3 columns, where the values are random integers between 1 and 100.\n",
    "import numpy as np\n",
    "import pandas as pd\n",
    "\n",
    "def create_random_dataframe():\n",
    "    data = np.random.randint(1, 101, size=(5, 3))\n",
    "    \n",
    "    df = pd.DataFrame(data, columns=['Column 1', 'Column 2', 'Column 3'])\n",
    "    \n",
    "    return df"
   ]
  },
  {
   "cell_type": "code",
   "execution_count": 28,
   "id": "cc5833c6-b8fa-45c5-a540-df43b9fae5ac",
   "metadata": {},
   "outputs": [
    {
     "name": "stdout",
     "output_type": "stream",
     "text": [
      "   Column 1  Column 2  Column 3\n",
      "0        61        31        54\n",
      "1        91        59        98\n",
      "2        61        50        21\n",
      "3        14         9        99\n",
      "4        70        27        18\n"
     ]
    }
   ],
   "source": [
    "df = create_random_dataframe()\n",
    "print(df)"
   ]
  },
  {
   "cell_type": "code",
   "execution_count": 29,
   "id": "3d7686f1-f4eb-40eb-935a-9a7dff3d4d77",
   "metadata": {},
   "outputs": [],
   "source": [
    "# Q 25:- Write a function that takes a Pandas DataFrame and replaces all negative values in a specific column with zeros. Use NumPy operations\n",
    "#within the Pandas DataFrame.\n",
    "import pandas as pd\n",
    "import numpy as np\n",
    "\n",
    "def replace_negatives_with_zero(df, column_name):\n",
    "    \n",
    "    df[column_name] = np.where(df[column_name] < 0, 0, df[column_name])\n",
    "    return df\n"
   ]
  },
  {
   "cell_type": "code",
   "execution_count": 30,
   "id": "9d5525d2-d65f-4790-8639-394b0f96ca84",
   "metadata": {},
   "outputs": [
    {
     "name": "stdout",
     "output_type": "stream",
     "text": [
      "Original DataFrame:\n",
      "   Column 1  Column 2\n",
      "0        10        -3\n",
      "1        -5        25\n",
      "2        30       100\n",
      "3        -1        -7\n",
      "4        45         0\n",
      "\n",
      "DataFrame after replacing negatives in 'Column 1' with zero:\n",
      "   Column 1  Column 2\n",
      "0        10        -3\n",
      "1         0        25\n",
      "2        30       100\n",
      "3         0        -7\n",
      "4        45         0\n"
     ]
    }
   ],
   "source": [
    "data = {'Column 1': [10, -5, 30, -1, 45],\n",
    "        'Column 2': [-3, 25, 100, -7, 0]}\n",
    "\n",
    "df = pd.DataFrame(data)\n",
    "\n",
    "print(\"Original DataFrame:\")\n",
    "print(df)\n",
    "\n",
    "df = replace_negatives_with_zero(df, 'Column 1')\n",
    "\n",
    "print(\"\\nDataFrame after replacing negatives in 'Column 1' with zero:\")\n",
    "print(df)\n"
   ]
  },
  {
   "cell_type": "code",
   "execution_count": 31,
   "id": "9181e5c7-cb03-460f-859f-e8bdea71ece6",
   "metadata": {},
   "outputs": [
    {
     "name": "stdout",
     "output_type": "stream",
     "text": [
      "30\n"
     ]
    }
   ],
   "source": [
    "#Q 26:- Access the 3rd element from the given NumPy array.   \n",
    "        #arr = np.array([10, 20, 30, 40, 50])\n",
    "arr = np.array([10, 20, 30, 40, 50])\n",
    "\n",
    "third_element = arr[2]\n",
    "print(third_element)"
   ]
  },
  {
   "cell_type": "code",
   "execution_count": 32,
   "id": "b7dc9c83-b296-4cef-8c13-24405337562e",
   "metadata": {},
   "outputs": [
    {
     "name": "stdout",
     "output_type": "stream",
     "text": [
      "6\n"
     ]
    }
   ],
   "source": [
    "# Q 27:-  Retrieve the element at index (1, 2) from the 2D NumPy array.\n",
    "         # arr_2d = np.array([[1, 2, 3],\n",
    "                  # [4, 5, 6],\n",
    "                  # [7, 8, 9]])\n",
    "arr_2d = np.array([[1, 2, 3],\n",
    "                   [4, 5, 6],\n",
    "                   [7, 8, 9]])\n",
    "\n",
    "element = arr_2d[1, 2]\n",
    "print(element)"
   ]
  },
  {
   "cell_type": "code",
   "execution_count": 33,
   "id": "8e391430-97eb-45c0-8b86-03cc59f76558",
   "metadata": {},
   "outputs": [
    {
     "name": "stdout",
     "output_type": "stream",
     "text": [
      "[ 8 10  7]\n"
     ]
    }
   ],
   "source": [
    "# Q 28:- Using boolean indexing, extract elements greater than 5 from the given NumPy array.\n",
    "         #arr = np.array([3, 8, 2, 10, 5, 7])\n",
    "arr = np.array([3, 8, 2, 10, 5, 7])\n",
    "\n",
    "filtered_arr = arr[arr > 5]\n",
    "print(filtered_arr)"
   ]
  },
  {
   "cell_type": "code",
   "execution_count": 34,
   "id": "71992c51-898c-4f6c-a806-054902d65fd1",
   "metadata": {},
   "outputs": [
    {
     "name": "stdout",
     "output_type": "stream",
     "text": [
      "[3 4 5 6]\n"
     ]
    }
   ],
   "source": [
    "# Q 29:- Perform basic slicing to extract elements from index 2 to 5 (inclusive) from the given NumPy array.\n",
    "         #arr = np.array([1, 2, 3, 4, 5, 6, 7, 8, 9])\n",
    "arr = np.array([1, 2, 3, 4, 5, 6, 7, 8, 9])\n",
    "\n",
    "sliced_arr = arr[2:6] \n",
    "print(sliced_arr)"
   ]
  },
  {
   "cell_type": "code",
   "execution_count": 35,
   "id": "24c46f12-648c-4687-9482-dc9fc37d8a12",
   "metadata": {},
   "outputs": [
    {
     "name": "stdout",
     "output_type": "stream",
     "text": [
      "[[2 3]\n",
      " [5 6]]\n"
     ]
    }
   ],
   "source": [
    "# Q 30:-  Slice the 2D NumPy array to extract the sub-array `[[2, 3], [5, 6]]` from the given array.\n",
    "           #arr_2d = np.array([[1, 2, 3],\n",
    "                 #  [4, 5, 6],\n",
    "                  # [7, 8, 9]])\n",
    "arr_2d = np.array([[1, 2, 3],\n",
    "                   [4, 5, 6],\n",
    "                   [7, 8, 9]])\n",
    "\n",
    "sub_array = arr_2d[0:2, 1:3]\n",
    "print(sub_array)"
   ]
  },
  {
   "cell_type": "code",
   "execution_count": 2,
   "id": "9770a77b-83b8-4a1a-b95d-a2e84c97bc23",
   "metadata": {},
   "outputs": [
    {
     "name": "stdout",
     "output_type": "stream",
     "text": [
      "[30 50 70]\n"
     ]
    }
   ],
   "source": [
    "# Q 31 :- Write a NumPy function to extract elements in specific order from a given 2D array based on indices provided in another array.\n",
    "import numpy as np\n",
    "\n",
    "def extract_elements_by_indices(arr, indices):\n",
    "   \n",
    "    indices = np.array(indices) \n",
    "    rows, cols = indices[:, 0], indices[:, 1]\n",
    "    return arr[rows, cols]\n",
    "\n",
    "array_2d = np.array([[10, 20, 30],\n",
    "                     [40, 50, 60],\n",
    "                     [70, 80, 90]])\n",
    "\n",
    "index_list = [(0, 2), (1, 1), (2, 0)]\n",
    "result = extract_elements_by_indices(array_2d, index_list)\n",
    "print(result)\n"
   ]
  },
  {
   "cell_type": "code",
   "execution_count": 3,
   "id": "17c4a11b-9cef-44ac-86dd-fc3e126db92a",
   "metadata": {},
   "outputs": [
    {
     "name": "stdout",
     "output_type": "stream",
     "text": [
      "[12 18  9]\n"
     ]
    }
   ],
   "source": [
    "# Q 32:- Create a NumPy function that filters elements greater than a threshold from a given 1D array using boolean indexing.\n",
    "import numpy as np\n",
    "\n",
    "def filter_greater_than_threshold(arr, threshold):\n",
    "   \n",
    "    return arr[arr > threshold]\n",
    "\n",
    "array_1d = np.array([5, 12, 7, 3, 18, 1, 9])\n",
    "threshold_value = 8\n",
    "result = filter_greater_than_threshold(array_1d, threshold_value)\n",
    "print(result)\n"
   ]
  },
  {
   "cell_type": "code",
   "execution_count": 4,
   "id": "cacd2b9d-4318-43e5-ac46-d51c9b36564a",
   "metadata": {},
   "outputs": [
    {
     "name": "stdout",
     "output_type": "stream",
     "text": [
      "[ 9 30 57]\n"
     ]
    }
   ],
   "source": [
    "# Q 33 :- Develop a NumPy function that extracts specific elements from a 3D array using indices provided in three separate arrays for each dimension.\n",
    "import numpy as np\n",
    "\n",
    "def extract_elements_from_3d(arr, idx1, idx2, idx3):\n",
    "   \n",
    "    idx1 = np.array(idx1)\n",
    "    idx2 = np.array(idx2)\n",
    "    idx3 = np.array(idx3)\n",
    "    \n",
    "    return arr[idx1, idx2, idx3]\n",
    "\n",
    "array_3d = np.arange(3*4*5).reshape((3, 4, 5))\n",
    "\n",
    "idx1 = [0, 1, 2]\n",
    "idx2 = [1, 2, 3]\n",
    "idx3 = [4, 0, 2]\n",
    "\n",
    "result = extract_elements_from_3d(array_3d, idx1, idx2, idx3)\n",
    "print(result)\n"
   ]
  },
  {
   "cell_type": "code",
   "execution_count": 5,
   "id": "aa882a49-9c05-4f79-bef6-42dc041098ca",
   "metadata": {},
   "outputs": [
    {
     "name": "stdout",
     "output_type": "stream",
     "text": [
      "[30 50 70]\n"
     ]
    }
   ],
   "source": [
    "# Q 34 :-  Create a NumPy function that extracts elements from a 2D array using row and column indices provided in separate arrays.\n",
    "import numpy as np\n",
    "\n",
    "def extract_elements_by_row_col(arr, row_indices, col_indices):\n",
    "   \n",
    "    row_indices = np.array(row_indices)\n",
    "    col_indices = np.array(col_indices)\n",
    "    \n",
    "    return arr[row_indices, col_indices]\n",
    "\n",
    "array_2d = np.array([[10, 20, 30],\n",
    "                     [40, 50, 60],\n",
    "                     [70, 80, 90]])\n",
    "\n",
    "rows = [0, 1, 2]\n",
    "cols = [2, 1, 0]\n",
    "\n",
    "result = extract_elements_by_row_col(array_2d, rows, cols)\n",
    "print(result)\n"
   ]
  },
  {
   "cell_type": "code",
   "execution_count": 7,
   "id": "9221f699-e0f6-47e9-9642-b4ef61ae717b",
   "metadata": {},
   "outputs": [
    {
     "name": "stdout",
     "output_type": "stream",
     "text": [
      "[[ 6  7  8]\n",
      " [ 9 10 11]\n",
      " [12 13 14]]\n"
     ]
    }
   ],
   "source": [
    "# Q 35 :- Given an array arr of shape (3, 3), add a scalar value of 5 to each element using NumPy broadcasting.\n",
    "import numpy as np\n",
    "\n",
    "arr = np.array([[1, 2, 3],\n",
    "                [4, 5, 6],\n",
    "                [7, 8, 9]])\n",
    "\n",
    "result = arr + 5\n",
    "\n",
    "print(result)\n"
   ]
  },
  {
   "cell_type": "code",
   "execution_count": 8,
   "id": "166f6c51-5707-4e99-964d-543b8b4a6cb3",
   "metadata": {},
   "outputs": [
    {
     "name": "stdout",
     "output_type": "stream",
     "text": [
      "[[ 2  4  6  8]\n",
      " [15 18 21 24]\n",
      " [36 40 44 48]]\n"
     ]
    }
   ],
   "source": [
    "# Q 37 :-  Consider two arrays arr1 of shape (1, 3) and arr2 of shape (3, 4). Multiply each row of arr2 by the corresponding element in arr1 \n",
    "#using NumPy broadcasting.import numpy as np\n",
    "\n",
    "arr1 = np.array([[2, 3, 4]])\n",
    "arr2 = np.array([[1, 2, 3, 4],\n",
    "                 [5, 6, 7, 8],\n",
    "                 [9, 10, 11, 12]])\n",
    "\n",
    "result = arr2 * arr1.T \n",
    "\n",
    "print(result)\n",
    "\n"
   ]
  },
  {
   "cell_type": "code",
   "execution_count": 9,
   "id": "19fe7206-66e6-4a8e-b767-dd02d7ee11fb",
   "metadata": {},
   "outputs": [
    {
     "name": "stdout",
     "output_type": "stream",
     "text": [
      "[[ 6  7  8]\n",
      " [10 11 12]\n",
      " [14 15 16]\n",
      " [18 19 20]]\n"
     ]
    }
   ],
   "source": [
    "# Q 38:-  Given a 1D array arr1 of shape (1, 4) and a 2D array arr2 of shape (4, 3), add arr1 to each row of arr2 using NumPy broadcasting.\n",
    "import numpy as np\n",
    "\n",
    "arr1 = np.array([[1, 2, 3, 4]])\n",
    "arr2 = np.array([[5, 6, 7],\n",
    "                 [8, 9, 10],\n",
    "                 [11, 12, 13],\n",
    "                 [14, 15, 16]])\n",
    "\n",
    "result = arr2 + arr1.T  \n",
    "\n",
    "print(result)\n"
   ]
  },
  {
   "cell_type": "code",
   "execution_count": 10,
   "id": "68667e06-42bd-41ed-886a-bc0d2c58f0f8",
   "metadata": {},
   "outputs": [
    {
     "name": "stdout",
     "output_type": "stream",
     "text": [
      "[[11 21 31]\n",
      " [12 22 32]\n",
      " [13 23 33]]\n"
     ]
    }
   ],
   "source": [
    "# Q 39 :- Consider two arrays arr1 of shape (3, 1) and arr2 of shape (1, 3). Add these arrays using NumPy broadcasting.\n",
    "import numpy as np\n",
    "\n",
    "arr1 = np.array([[1],\n",
    "                 [2],\n",
    "                 [3]]) \n",
    "\n",
    "arr2 = np.array([[10, 20, 30]]) \n",
    "\n",
    "result = arr1 + arr2\n",
    "\n",
    "print(result)\n"
   ]
  },
  {
   "cell_type": "code",
   "execution_count": 11,
   "id": "ee71b822-ec18-4540-8889-0e067a9c11c0",
   "metadata": {},
   "outputs": [
    {
     "name": "stdout",
     "output_type": "stream",
     "text": [
      "[[[ 7 14 21]\n",
      "  [ 8 16 24]]\n",
      "\n",
      " [[36 45 54]\n",
      "  [40 50 60]]]\n"
     ]
    }
   ],
   "source": [
    "# Q 40 ;- . Given arrays arr1 of shape (2, 3) and arr2 of shape (2, 2), perform multiplication using NumPy broadcasting. Handle the shape\n",
    "#incompatibility.\n",
    "import numpy as np\n",
    "\n",
    "arr1 = np.array([[1, 2, 3],\n",
    "                 [4, 5, 6]]) \n",
    "\n",
    "arr2 = np.array([[7, 8],\n",
    "                 [9, 10]])\n",
    "\n",
    "arr1_expanded = arr1[:, np.newaxis, :] \n",
    "arr2_expanded = arr2[:, :, np.newaxis] \n",
    "\n",
    "result = arr1_expanded * arr2_expanded\n",
    "\n",
    "print(result)\n"
   ]
  },
  {
   "cell_type": "code",
   "execution_count": 12,
   "id": "1e25f6cc-04c5-4f6b-978d-decb45ebc1b7",
   "metadata": {},
   "outputs": [
    {
     "name": "stdout",
     "output_type": "stream",
     "text": [
      "[2.5 3.5 4.5]\n"
     ]
    }
   ],
   "source": [
    "# Q 41 :- Calculate column wise mean for the given array:\n",
    "          #arr = np.array([[1, 2, 3], [4, 5, 6]])\n",
    "import numpy as np\n",
    "\n",
    "arr = np.array([[1, 2, 3],\n",
    "                [4, 5, 6]])\n",
    "\n",
    "col_mean = np.mean(arr, axis=0)\n",
    "\n",
    "print(col_mean)\n"
   ]
  },
  {
   "cell_type": "code",
   "execution_count": 14,
   "id": "fb4b3927-297d-4425-83f5-09b8e99c166e",
   "metadata": {},
   "outputs": [
    {
     "name": "stdout",
     "output_type": "stream",
     "text": [
      "[3 6]\n"
     ]
    }
   ],
   "source": [
    "# Q 42 :-  Find maximum value in each row of the given array:\n",
    "           #arr = np.array([[1, 2, 3], [4, 5, 6]])\n",
    "import numpy as n\n",
    "\n",
    "arr = np.array([[1, 2, 3],\n",
    "                [4, 5, 6]])\n",
    "\n",
    "row_max = np.max(arr, axis=1)\n",
    "\n",
    "print(row_max)"
   ]
  },
  {
   "cell_type": "code",
   "execution_count": 15,
   "id": "76638a6c-8f76-48d9-a970-62e4ed7d644b",
   "metadata": {},
   "outputs": [
    {
     "name": "stdout",
     "output_type": "stream",
     "text": [
      "[1 1 1]\n"
     ]
    }
   ],
   "source": [
    "# Q 43 :- For the given array, find indices of maximum value in each column.\n",
    "          #arr = np.array([[1, 2, 3], [4, 5, 6]])\n",
    "import numpy as np\n",
    "\n",
    "arr = np.array([[1, 2, 3],\n",
    "                [4, 5, 6]])\n",
    "\n",
    "col_max_indices = np.argmax(arr, axis=0)\n",
    "\n",
    "print(col_max_indices)\n"
   ]
  },
  {
   "cell_type": "code",
   "execution_count": 17,
   "id": "cbde0aa0-ecb5-4a4a-807e-55fa0ef8e6db",
   "metadata": {},
   "outputs": [
    {
     "name": "stdout",
     "output_type": "stream",
     "text": [
      "[[ 1  3  5]\n",
      " [ 4  9 11]]\n"
     ]
    }
   ],
   "source": [
    "# Q 44 :- For the given array, apply custom function to calculate moving sum along rows.\n",
    "          #arr = np.array([[1, 2, 3], [4, 5, 6]])\n",
    "import numpy as np\n",
    "\n",
    "arr = np.array([[1, 2, 3],\n",
    "                [4, 5, 6]])\n",
    "\n",
    "def moving_sum(arr, window_size):\n",
    "    result = np.zeros_like(arr, dtype=int)\n",
    "    \n",
    "    for i in range(arr.shape[0]): \n",
    "        for j in range(arr.shape[1]): \n",
    "            if j < window_size - 1:\n",
    "                result[i, j] = np.sum(arr[i, :j+1])\n",
    "            else:\n",
    "                result[i, j] = np.sum(arr[i, j-window_size+1:j+1])\n",
    "    \n",
    "    return result\n",
    "\n",
    "window_size = 2\n",
    "result = moving_sum(arr, window_size)\n",
    "print(result)\n"
   ]
  },
  {
   "cell_type": "code",
   "execution_count": 18,
   "id": "ef7784b2-f952-4807-b9db-d0ed59a5879f",
   "metadata": {},
   "outputs": [
    {
     "name": "stdout",
     "output_type": "stream",
     "text": [
      "[False False False]\n"
     ]
    }
   ],
   "source": [
    "# Q 45: -  In the given array, check if all elements in each column are even.\n",
    "           #arr = np.array([[2, 4, 6], [3, 5, 7]])\n",
    "import numpy as np\n",
    "\n",
    "arr = np.array([[2, 4, 6],\n",
    "                [3, 5, 7]])\n",
    "\n",
    "all_even = np.all(arr % 2 == 0, axis=0)\n",
    "\n",
    "print(all_even)"
   ]
  },
  {
   "cell_type": "code",
   "execution_count": 19,
   "id": "2e6eb487-2eef-46e0-b7f7-01d13ed6627d",
   "metadata": {},
   "outputs": [
    {
     "name": "stdout",
     "output_type": "stream",
     "text": [
      "[[1 2 3]\n",
      " [4 5 6]]\n"
     ]
    }
   ],
   "source": [
    "# Q 46 :- . Given a NumPy array arr, reshape it into a matrix of dimensions `m` rows and `n` columns. Return the reshaped matrix.\n",
    "            #original_array = np.array([1, 2, 3, 4, 5, 6])\n",
    "import numpy as np\n",
    "\n",
    "original_array = np.array([1, 2, 3, 4, 5, 6])\n",
    "\n",
    "m, n = 2, 3 \n",
    "\n",
    "reshaped_matrix = original_array.reshape(m, n)\n",
    "\n",
    "print(reshaped_matrix)"
   ]
  },
  {
   "cell_type": "code",
   "execution_count": 20,
   "id": "299a37a9-883e-4a30-9712-44a7b5d0c9cb",
   "metadata": {},
   "outputs": [
    {
     "name": "stdout",
     "output_type": "stream",
     "text": [
      "[1 2 3 4 5 6]\n"
     ]
    }
   ],
   "source": [
    "# Q 47:- Create a function that takes a matrix as input and returns the flattened array.\n",
    "         #input_matrix = np.array([[1, 2, 3], [4, 5, 6]])\n",
    "import numpy as np\n",
    "\n",
    "def flatten_matrix(matrix):\n",
    "    \n",
    "    return matrix.flatten()\n",
    "\n",
    "input_matrix = np.array([[1, 2, 3], [4, 5, 6]])\n",
    "\n",
    "flattened_array = flatten_matrix(input_matrix)\n",
    "print(flattened_array)\n"
   ]
  },
  {
   "cell_type": "code",
   "execution_count": 21,
   "id": "0e53763a-656d-449a-81f3-3ccb8fa262e6",
   "metadata": {},
   "outputs": [
    {
     "name": "stdout",
     "output_type": "stream",
     "text": [
      "Concatenated along axis 0:\n",
      " [[1 2]\n",
      " [3 4]\n",
      " [5 6]\n",
      " [7 8]]\n",
      "Concatenated along axis 1:\n",
      " [[1 2 5 6]\n",
      " [3 4 7 8]]\n"
     ]
    }
   ],
   "source": [
    "# Q 48 :-  Write a function that concatenates two given arrays along a specified axis.\n",
    "           #array1 = np.array([[1, 2], [3, 4]])\n",
    "           #array2 = np.array([[5, 6], [7, 8]])\n",
    "import numpy as np\n",
    "\n",
    "def concatenate_arrays(arr1, arr2, axis):\n",
    "    \n",
    "    return np.concatenate((arr1, arr2), axis=axis)\n",
    "\n",
    "array1 = np.array([[1, 2], [3, 4]])\n",
    "array2 = np.array([[5, 6], [7, 8]])\n",
    "\n",
    "result_axis_0 = concatenate_arrays(array1, array2, axis=0)\n",
    "print(\"Concatenated along axis 0:\\n\", result_axis_0)\n",
    "\n",
    "result_axis_1 = concatenate_arrays(array1, array2, axis=1)\n",
    "print(\"Concatenated along axis 1:\\n\", result_axis_1)\n"
   ]
  },
  {
   "cell_type": "code",
   "execution_count": 22,
   "id": "69178afa-5214-49c2-a369-91a2f24711cf",
   "metadata": {},
   "outputs": [
    {
     "name": "stdout",
     "output_type": "stream",
     "text": [
      "[ 1 10  4 11  5]\n"
     ]
    }
   ],
   "source": [
    "# Q 50 :-  Write a function that inserts and then deletes elements from a given array at specified indices.\n",
    "           # original_array = np.array([1, 2, 3, 4, 5])\n",
    "           # indices_to_insert = [2, 4]\n",
    "           # values_to_insert = [10, 11]\n",
    "           # indices_to_delete = [1, 3]\n",
    "import numpy as np\n",
    "\n",
    "def insert_and_delete_elements(arr, indices_to_insert, values_to_insert, indices_to_delete):\n",
    "    \n",
    "    arr = np.insert(arr, indices_to_insert, values_to_insert)\n",
    "\n",
    "    arr = np.delete(arr, indices_to_delete)\n",
    "\n",
    "    return arr\n",
    "\n",
    "original_array = np.array([1, 2, 3, 4, 5])\n",
    "indices_to_insert = [2, 4]\n",
    "values_to_insert = [10, 11]\n",
    "indices_to_delete = [1, 3]\n",
    "\n",
    "modified_array = insert_and_delete_elements(original_array, indices_to_insert, values_to_insert, indices_to_delete)\n",
    "print(modified_array)\n"
   ]
  },
  {
   "cell_type": "code",
   "execution_count": 23,
   "id": "dbe8ded1-766b-472a-bacd-5804c445f774",
   "metadata": {},
   "outputs": [
    {
     "name": "stdout",
     "output_type": "stream",
     "text": [
      "arr1:\n",
      "[[10  2 20  2  1]\n",
      " [12  6 15  7 13]]\n",
      "\n",
      "arr2:\n",
      "[[ 1  2  3  4  5]\n",
      " [ 6  7  8  9 10]]\n",
      "\n",
      "Result of element-wise addition:\n",
      "[[11  4 23  6  6]\n",
      " [18 13 23 16 23]]\n"
     ]
    }
   ],
   "source": [
    "# Q 51;- Create a NumPy array `arr1` with random integers and another array `arr2` with integers from 1 to 10. Perform element-wise addition between \n",
    "#`arr1` and `arr2`\n",
    "import numpy as np\n",
    "\n",
    "arr1 = np.random.randint(1, 21, size=(2, 5))\n",
    "\n",
    "arr2 = np.arange(1, 11).reshape(2, 5)\n",
    "\n",
    "result = arr1 + arr2\n",
    "\n",
    "print(\"arr1:\")\n",
    "print(arr1)\n",
    "print(\"\\narr2:\")\n",
    "print(arr2)\n",
    "print(\"\\nResult of element-wise addition:\")\n",
    "print(result)"
   ]
  },
  {
   "cell_type": "code",
   "execution_count": 1,
   "id": "4a7a609c-0ef9-43ff-b0e2-0aed8b693607",
   "metadata": {},
   "outputs": [
    {
     "name": "stdout",
     "output_type": "stream",
     "text": [
      "arr1: [10  9  8  7  6  5  4  3  2  1]\n",
      "arr2: [ 1  2  3  4  5  6  7  8  9 10]\n",
      "Result: [ 9  7  5  3  1 -1 -3 -5 -7 -9]\n"
     ]
    }
   ],
   "source": [
    "# Q 52 :-  Generate a NumPy array `arr1` with sequential integers from 10 to 1 and another array `arr2` with integersfrom 1 to 10. Subtract `arr2`\n",
    "#from `arr1` element-wise.\n",
    "import numpy as np\n",
    "\n",
    "arr1 = np.arange(10, 0, -1)\n",
    "arr2 = np.arange(1, 11)\n",
    "\n",
    "result = arr1 - arr2\n",
    "\n",
    "print(\"arr1:\", arr1)\n",
    "print(\"arr2:\", arr2)\n",
    "print(\"Result:\", result)"
   ]
  },
  {
   "cell_type": "code",
   "execution_count": 2,
   "id": "d57f90b0-9d25-47a9-806c-05ff87283e01",
   "metadata": {},
   "outputs": [
    {
     "name": "stdout",
     "output_type": "stream",
     "text": [
      "arr1: [ 7  8 10  4  1]\n",
      "arr2: [1 2 3 4 5]\n",
      "Result: [ 7 16 30 16  5]\n"
     ]
    }
   ],
   "source": [
    "# Q 53:-  Create a NumPy array `arr1` with random integers and another array `arr2` with integers from 1 to 5. Perform element-wise multiplication \n",
    "#between `arr1` and `arr2`.\n",
    "\n",
    "arr1 = np.random.randint(0, 11, size=5)\n",
    "\n",
    "arr2 = np.arange(1, 6)\n",
    "\n",
    "result = arr1 * arr2\n",
    "\n",
    "print(\"arr1:\", arr1)\n",
    "print(\"arr2:\", arr2)\n",
    "print(\"Result:\", result)"
   ]
  },
  {
   "cell_type": "code",
   "execution_count": 3,
   "id": "2c048087-76e4-4b01-a7ac-fdc018ca789a",
   "metadata": {},
   "outputs": [
    {
     "name": "stdout",
     "output_type": "stream",
     "text": [
      "arr1: [ 2  4  6  8 10]\n",
      "arr2: [1 2 3 4 5]\n",
      "Result: [2. 2. 2. 2. 2.]\n"
     ]
    }
   ],
   "source": [
    "# Q 54 :-Generate a NumPy array `arr1` with even integers from 2 to 10 and another array `arr2` with integers from 1 to 5. Perform element-wise \n",
    "#division of `arr1` by `arr2`.\n",
    "\n",
    "arr1 = np.arange(2, 11, 2)\n",
    "\n",
    "arr2 = np.arange(1, 6)\n",
    "\n",
    "result = arr1 / arr2\n",
    "\n",
    "print(\"arr1:\", arr1)\n",
    "print(\"arr2:\", arr2)\n",
    "print(\"Result:\", result)"
   ]
  },
  {
   "cell_type": "code",
   "execution_count": 4,
   "id": "1d67791e-5efa-401f-a437-a902401fce95",
   "metadata": {},
   "outputs": [
    {
     "name": "stdout",
     "output_type": "stream",
     "text": [
      "Count of 'hello': 3\n"
     ]
    }
   ],
   "source": [
    "# Q 55 :- Write a function that counts the occurrences of a specific substring within a NumPy array of strings.\n",
    "          #arr = np.array(['hello', 'world', 'hello', 'numpy', 'hello'])\n",
    "\n",
    "def count_substring(arr, substring):\n",
    "    return np.sum([s == substring for s in arr])\n",
    "\n",
    "arr = np.array(['hello', 'world', 'hello', 'numpy', 'hello'])\n",
    "\n",
    "count = count_substring(arr, 'hello')\n",
    "\n",
    "print(\"Count of 'hello':\", count)"
   ]
  },
  {
   "cell_type": "code",
   "execution_count": 5,
   "id": "04371f58-475d-47db-b5bb-bacf9bbfe07d",
   "metadata": {},
   "outputs": [
    {
     "name": "stdout",
     "output_type": "stream",
     "text": [
      "Uppercase characters: ['H' 'W' 'OAI' 'GPT']\n"
     ]
    }
   ],
   "source": [
    "# Q 56:- Write a function that extracts uppercase characters from a NumPy array of strings. arr = np.array(['Hello', 'World', 'OpenAI', 'GPT'])\n",
    "         #arr = np.array(['Hello', 'World', 'OpenAI', 'GPT'])\n",
    "\n",
    "def extract_uppercase(arr):\n",
    "    return np.array([''.join([char for char in string if char.isupper()]) for string in arr])\n",
    "\n",
    "arr = np.array(['Hello', 'World', 'OpenAI', 'GPT'])\n",
    "\n",
    "uppercase_arr = extract_uppercase(arr)\n",
    "\n",
    "print(\"Uppercase characters:\", uppercase_arr)"
   ]
  },
  {
   "cell_type": "code",
   "execution_count": 7,
   "id": "1634a446-adc0-4081-b69b-727c0503f8ee",
   "metadata": {},
   "outputs": [
    {
     "name": "stdout",
     "output_type": "stream",
     "text": [
      "Modified array: ['orange' 'banana' 'grape' 'pineorange']\n"
     ]
    }
   ],
   "source": [
    "# Q 58:- Write a function that replaces occurrences of a substring in a NumPy array of strings with a new string.\n",
    "         #arr = np.array(['apple', 'banana', 'grape', 'pineapple'])\n",
    "\n",
    "def replace_substring(arr, old_substring, new_substring):\n",
    "    return np.char.replace(arr, old_substring, new_substring)\n",
    "                           \n",
    "arr = np.array(['apple', 'banana', 'grape', 'pineapple'])\n",
    "\n",
    "new_arr = replace_substring(arr, 'apple', 'orange')\n",
    "\n",
    "print(\"Modified array:\", new_arr)"
   ]
  },
  {
   "cell_type": "code",
   "execution_count": 8,
   "id": "3c88df4f-7ed2-45e5-aa48-8c41a43c59e0",
   "metadata": {},
   "outputs": [
    {
     "name": "stdout",
     "output_type": "stream",
     "text": [
      "Concatenated array: ['HelloOpen' 'WorldAI']\n"
     ]
    }
   ],
   "source": [
    "# Q 59:- Write a function that concatenates strings in a NumPy array element-wise.\n",
    "        #arr1 = np.array(['Hello', 'World'])\n",
    "        #arr2 = np.array(['Open', 'AI'])\n",
    "\n",
    "def concatenate_arrays(arr1, arr2):\n",
    "    return np.char.add(arr1, arr2)\n",
    "\n",
    "arr1 = np.array(['Hello', 'World'])\n",
    "arr2 = np.array(['Open', 'AI'])\n",
    "\n",
    "result = concatenate_arrays(arr1, arr2)\n",
    "\n",
    "print(\"Concatenated array:\", result)"
   ]
  },
  {
   "cell_type": "code",
   "execution_count": 9,
   "id": "5f30820f-27bd-4f6b-9889-4fd977a2eb6e",
   "metadata": {},
   "outputs": [
    {
     "name": "stdout",
     "output_type": "stream",
     "text": [
      "Dataset: [ 55 963 333 760 311 281   5 400 308 179 572 874 369 162 265 781 986 819\n",
      " 561 424 848 426 680 810 888 610 297 672 635 180 701 254  16 811 832 424\n",
      " 211 755 669 954 746 977 835  28 212 111  90  24 118 316 367 564 757  23\n",
      " 234 234 608 944 855 818 641 466 756 524 580 907 723  13 385 614 201 793\n",
      " 304  28 662 456  45  51 847 571 413 338 503 523  15 728 691 173 609 275\n",
      " 517 958 776 406 668 546 567 607 184 830]\n",
      "Mean: 498.36\n",
      "Median: 535.0\n",
      "Variance: 82577.87039999999\n",
      "Standard Deviation: 287.36365532196305\n"
     ]
    }
   ],
   "source": [
    "# Q 61:-  Create a dataset of 100 random integers between 1 and 1000. Compute the mean, median, variance, and standard deviation of the dataset \n",
    "#using NumPy's functions.\n",
    "\n",
    "data = np.random.randint(1, 1001, size=100)\n",
    "\n",
    "mean = np.mean(data)\n",
    "median = np.median(data)\n",
    "variance = np.var(data)\n",
    "std_deviation = np.std(data)\n",
    "\n",
    "print(\"Dataset:\", data)\n",
    "print(\"Mean:\", mean)\n",
    "print(\"Median:\", median)\n",
    "print(\"Variance:\", variance)\n",
    "print(\"Standard Deviation:\", std_deviation)"
   ]
  },
  {
   "cell_type": "code",
   "execution_count": 10,
   "id": "b1cfadc1-c26a-4d6a-92f7-7813e615a13e",
   "metadata": {},
   "outputs": [
    {
     "name": "stdout",
     "output_type": "stream",
     "text": [
      "Data: [ 44  12  55  61  42  18  82  37  21  60  23  90  65  83 100  65   2  23\n",
      "  70   7  30  43  47  61  98  15  90  47  80  12  85  40  37  88  30   9\n",
      "  29  38  36  58  40  21 100  15  63  31  78  87  65  26]\n",
      "25th Percentile: 26.75\n",
      "75th Percentile: 68.75\n"
     ]
    }
   ],
   "source": [
    "# Q 62:-  Generate an array of 50 random numbers between 1 and 100. Find the 25th and 75th percentiles of the dataset.\n",
    "\n",
    "data = np.random.randint(1, 101, size=50)\n",
    "\n",
    "percentile_25 = np.percentile(data, 25)\n",
    "percentile_75 = np.percentile(data, 75)\n",
    "\n",
    "print(\"Data:\", data)\n",
    "print(\"25th Percentile:\", percentile_25)\n",
    "print(\"75th Percentile:\", percentile_75)"
   ]
  },
  {
   "cell_type": "code",
   "execution_count": 11,
   "id": "0dec3e32-d33b-4e07-8cda-32edaa04a15e",
   "metadata": {},
   "outputs": [
    {
     "name": "stdout",
     "output_type": "stream",
     "text": [
      "x: [18 82 87 44 58 95 71 93 72 48]\n",
      "y: [35 90 74 33 43 26 82 15 22 55]\n",
      "Correlation Coefficient Matrix:\n",
      " [[1.         0.09762238]\n",
      " [0.09762238 1.        ]]\n",
      "Correlation Coefficient between x and y: 0.0976223797406611\n"
     ]
    }
   ],
   "source": [
    "# Q 63 ;- Create two arrays representing two sets of variables. Compute the correlation coefficient between these arrays using NumPy's `corrcoef` \n",
    "#function.\n",
    "\n",
    "x = np.random.randint(1, 100, size=10)\n",
    "y = np.random.randint(1, 100, size=10)\n",
    "\n",
    "correlation_matrix = np.corrcoef(x, y)\n",
    "\n",
    "correlation_coefficient = correlation_matrix[0, 1]\n",
    "\n",
    "print(\"x:\", x)\n",
    "print(\"y:\", y)\n",
    "print(\"Correlation Coefficient Matrix:\\n\", correlation_matrix)\n",
    "print(\"Correlation Coefficient between x and y:\", correlation_coefficient)"
   ]
  },
  {
   "cell_type": "code",
   "execution_count": 12,
   "id": "cafbf605-1699-41b2-a9d9-79d603def749",
   "metadata": {},
   "outputs": [
    {
     "name": "stdout",
     "output_type": "stream",
     "text": [
      "Data: [132 388 416 395 149 661 224 602 908 968  27 493 399 251 360 540 323 642\n",
      " 485  91 350 656 405 867 817 748 856 200 221 512 252  78 166 508 105 889\n",
      " 701 645 998 683 897 514  20 670 960 786 586 877 457 535]\n",
      "10th Percentile: 129.3\n",
      "50th Percentile (Median): 510.0\n",
      "90th Percentile: 889.8\n",
      "First Quartile (25th Percentile): 269.75\n",
      "Third Quartile (75th Percentile): 696.5\n"
     ]
    }
   ],
   "source": [
    "# Q 65:-  Create an array of 50 integers between 10 and 1000. Calculate the 10th, 50th (median), and 90th percentiles along with the first and third \n",
    "#quartiles.\n",
    "\n",
    "data = np.random.randint(10, 1001, size=50)\n",
    "\n",
    "percentile_10 = np.percentile(data, 10)\n",
    "percentile_50 = np.percentile(data, 50)\n",
    "percentile_90 = np.percentile(data, 90)\n",
    "\n",
    "quartile_1 = np.percentile(data, 25)\n",
    "quartile_3 = np.percentile(data, 75)\n",
    "\n",
    "print(\"Data:\", data)\n",
    "print(\"10th Percentile:\", percentile_10)\n",
    "print(\"50th Percentile (Median):\", percentile_50)\n",
    "print(\"90th Percentile:\", percentile_90)\n",
    "print(\"First Quartile (25th Percentile):\", quartile_1)\n",
    "print(\"Third Quartile (75th Percentile):\", quartile_3)"
   ]
  },
  {
   "cell_type": "code",
   "execution_count": 13,
   "id": "e60af4fe-6e5c-4b9e-8f03-6ece13f6713b",
   "metadata": {},
   "outputs": [
    {
     "name": "stdout",
     "output_type": "stream",
     "text": [
      "Original Array: [90 41 76 26 57  6 11 65 47  6 92 19 62  3 88 60 80 57 16 33]\n",
      "Sorted Array: [ 3  6  6 11 16 19 26 33 41 47 57 57 60 62 65 76 80 88 90 92]\n"
     ]
    }
   ],
   "source": [
    "# Q 67:-  Generate a random NumPy array and sort it in ascending order\n",
    "\n",
    "data = np.random.randint(1, 101, size=20)\n",
    "\n",
    "sorted_data = np.sort(data)\n",
    "\n",
    "print(\"Original Array:\", data)\n",
    "print(\"Sorted Array:\", sorted_data)"
   ]
  },
  {
   "cell_type": "code",
   "execution_count": 14,
   "id": "2ad86476-f3a2-44ee-a4b3-75bb6386b3c5",
   "metadata": {},
   "outputs": [
    {
     "name": "stdout",
     "output_type": "stream",
     "text": [
      "Filtered Array (elements > 20): [25 42 30]\n"
     ]
    }
   ],
   "source": [
    "# Q 68:-  Filter elements >20  in the given NumPy array\n",
    "          #arr = np.array([12, 25, 6, 42, 8, 30])\n",
    "\n",
    "arr = np.array([12, 25, 6, 42, 8, 30])\n",
    "\n",
    "filtered_arr = arr[arr > 20]\n",
    "\n",
    "print(\"Filtered Array (elements > 20):\", filtered_arr)"
   ]
  },
  {
   "cell_type": "code",
   "execution_count": 15,
   "id": "d482e6d8-f7ec-4cc8-907f-bab59d66bc8c",
   "metadata": {},
   "outputs": [
    {
     "name": "stdout",
     "output_type": "stream",
     "text": [
      "Filtered Array (elements divisible by 3): [12 15]\n"
     ]
    }
   ],
   "source": [
    "# Q 69:-  Filter elements which are divisible by 3 from a given NumPy array\n",
    "          #arr = np.array([1, 5, 8, 12, 15])\n",
    "\n",
    "arr = np.array([1, 5, 8, 12, 15])\n",
    "\n",
    "filtered_arr = arr[arr % 3 == 0]\n",
    "\n",
    "print(\"Filtered Array (elements divisible by 3):\", filtered_arr)"
   ]
  },
  {
   "cell_type": "code",
   "execution_count": 16,
   "id": "3b6f81b8-420b-41d6-8ebd-1e285decc88b",
   "metadata": {},
   "outputs": [
    {
     "name": "stdout",
     "output_type": "stream",
     "text": [
      "Filtered Array (elements ≥ 20 and ≤ 40): []\n"
     ]
    }
   ],
   "source": [
    "# Q 70:- Filter elements which are ≥ 20 and ≤ 40 from a given NumPy array.\n",
    "         #arr = np.array([1, 2, 3])\n",
    "\n",
    "arr = np.array([1, 2, 3])\n",
    "\n",
    "filtered_arr = arr[(arr >= 20) & (arr <= 40)]\n",
    "\n",
    "print(\"Filtered Array (elements ≥ 20 and ≤ 40):\", filtered_arr)"
   ]
  },
  {
   "cell_type": "code",
   "execution_count": 17,
   "id": "acf58395-4a70-405d-b087-5dd4697066ae",
   "metadata": {},
   "outputs": [
    {
     "name": "stdout",
     "output_type": "stream",
     "text": [
      "Array after byte swapping: [16777216 33554432 50331648]\n"
     ]
    }
   ],
   "source": [
    "# Q 71 :-  For the given NumPy array, perform byte swapping in place using `byteswap()`.\n",
    "           #arr = np.array([1, 2, 3], dtype=np.int32)\n",
    "\n",
    "arr = np.array([1, 2, 3], dtype=np.int32)\n",
    "\n",
    "arr.byteswap(inplace=True)\n",
    "\n",
    "print(\"Array after byte swapping:\", arr)"
   ]
  },
  {
   "cell_type": "code",
   "execution_count": 18,
   "id": "224f967f-b762-428a-b84d-ebd7fd56c1d2",
   "metadata": {},
   "outputs": [
    {
     "name": "stdout",
     "output_type": "stream",
     "text": [
      "System endianness: little\n",
      "Original Array: [1 2 3]\n",
      "Array with swapped byte order: [16777216 33554432 50331648]\n"
     ]
    }
   ],
   "source": [
    "# q 74:- For the given NumPy array and swap its byte order conditionally based on system endianness using `newbyteorder()`.\n",
    "         #arr = np.array([1, 2, 3], dtype=np.int32)\n",
    "import numpy as np\n",
    "import sys\n",
    "\n",
    "arr = np.array([1, 2, 3], dtype=np.int32)\n",
    "\n",
    "system_endianness = sys.byteorder\n",
    "print(\"System endianness:\", system_endianness)\n",
    "\n",
    "if system_endianness == 'little':\n",
    "    arr_swapped = arr.newbyteorder('>')\n",
    "elif system_endianness == 'big':\n",
    "    arr_swapped = arr.newbyteorder('<')\n",
    "\n",
    "print(\"Original Array:\", arr)\n",
    "print(\"Array with swapped byte order:\", arr_swapped)"
   ]
  },
  {
   "cell_type": "code",
   "execution_count": 19,
   "id": "46a63b53-77ec-4577-82c8-818a935bc35a",
   "metadata": {},
   "outputs": [
    {
     "name": "stdout",
     "output_type": "stream",
     "text": [
      "Array byteorder: =\n",
      "No byte swapping needed. The array is in the system's native endianness.\n"
     ]
    }
   ],
   "source": [
    "# Q 76 :-  For the given NumPy array, check if byte swapping is necessary for the current system using `dtype` attribute `byteorder`.\n",
    "           #arr = np.array([1, 2, 3], dtype=np.int32)\n",
    "import numpy as np\n",
    "\n",
    "arr = np.array([1, 2, 3], dtype=np.int32)\n",
    "\n",
    "array_byteorder = arr.dtype.byteorder\n",
    "print(\"Array byteorder:\", array_byteorder)\n",
    "\n",
    "if array_byteorder == '=':\n",
    "    print(\"No byte swapping needed. The array is in the system's native endianness.\")\n",
    "else:\n",
    "    print(\"Byte swapping is necessary. The array is not in the system's native endianness.\")"
   ]
  },
  {
   "cell_type": "code",
   "execution_count": 20,
   "id": "a82c4b71-9655-4813-912c-b81f1ca767cc",
   "metadata": {},
   "outputs": [
    {
     "name": "stdout",
     "output_type": "stream",
     "text": [
      "Original array (arr1): [ 1  2  3  4  5  6  7  8  9 10]\n",
      "Modified copy (copy_arr): [100   2   3   4   5   6   7   8   9  10]\n"
     ]
    }
   ],
   "source": [
    "# Q 77:- Create a NumPy array `arr1` with values from 1 to 10. Create a copy of `arr1` named `copy_arr` and modify an element in `copy_arr`. Check if\n",
    "#modifying `copy_arr` affects `arr1`.\n",
    "\n",
    "arr1 = np.arange(1, 11)\n",
    "\n",
    "copy_arr = arr1.copy()\n",
    "\n",
    "copy_arr[0] = 100\n",
    "\n",
    "print(\"Original array (arr1):\", arr1)\n",
    "print(\"Modified copy (copy_arr):\", copy_arr)\n"
   ]
  },
  {
   "cell_type": "code",
   "execution_count": 21,
   "id": "f0fd8560-c384-45de-85cf-b105dcaa80cf",
   "metadata": {},
   "outputs": [
    {
     "name": "stdout",
     "output_type": "stream",
     "text": [
      "Original array (array_a):\n",
      " [[ 1  2  3]\n",
      " [ 4 10 11]\n",
      " [ 7 13 14]\n",
      " [10 11 12]]\n",
      "\n",
      "Modified slice (view_b):\n",
      " [[10 11]\n",
      " [13 14]]\n"
     ]
    }
   ],
   "source": [
    "# Q 79:-Create a NumPy array `array_a` of shape (4, 3) with sequential integers from 1 to 12. Extract a slice\n",
    "#`view_b` from `array_a` and broadcast the addition of 5 to view_b. Check if it alters the original `array_a`.\n",
    "\n",
    "array_a = np.arange(1, 13).reshape(4, 3)\n",
    "\n",
    "view_b = array_a[1:3, 1:3] \n",
    "\n",
    "view_b += 5\n",
    "\n",
    "print(\"Original array (array_a):\\n\", array_a)\n",
    "print(\"\\nModified slice (view_b):\\n\", view_b)"
   ]
  },
  {
   "cell_type": "code",
   "execution_count": 22,
   "id": "9cd47ad2-6af6-44af-8966-9822dfbb6a25",
   "metadata": {},
   "outputs": [
    {
     "name": "stdout",
     "output_type": "stream",
     "text": [
      "Original array (data):\n",
      " [[10  8  7  2]\n",
      " [ 8  9 10  1]\n",
      " [ 3  7  4  3]]\n",
      "\n",
      "Modified copy (data_copy):\n",
      " [100   8   7   8   9  10   7]\n"
     ]
    }
   ],
   "source": [
    "# Q 80:-Create a NumPy array `data` of shape (3, 4) with random integers. Extract a copy `data_copy` of elements greater than 5. Modify an element in \n",
    "#`data_copy` and verify if it affects the original `data`.\n",
    "\n",
    "data = np.random.randint(1, 11, size=(3, 4))\n",
    "\n",
    "data_copy = data[data > 5].copy()\n",
    "\n",
    "data_copy[0] = 100\n",
    "\n",
    "print(\"Original array (data):\\n\", data)\n",
    "print(\"\\nModified copy (data_copy):\\n\", data_copy)"
   ]
  },
  {
   "cell_type": "code",
   "execution_count": 23,
   "id": "19addfc9-d0b4-4123-95dc-2520400c8a32",
   "metadata": {},
   "outputs": [
    {
     "name": "stdout",
     "output_type": "stream",
     "text": [
      "Matrix A:\n",
      " [[7 3 6]\n",
      " [7 9 4]\n",
      " [2 9 4]]\n",
      "\n",
      "Matrix B:\n",
      " [[4 8 1]\n",
      " [3 5 1]\n",
      " [1 8 6]]\n",
      "\n",
      "Addition of A and B:\n",
      " [[11 11  7]\n",
      " [10 14  5]\n",
      " [ 3 17 10]]\n",
      "\n",
      "Subtraction of A and B:\n",
      " [[ 3 -5  5]\n",
      " [ 4  4  3]\n",
      " [ 1  1 -2]]\n"
     ]
    }
   ],
   "source": [
    "# Q 81:-  Create two matrices A and B of identical shape containing integers and perform addition and subtraction operations between them.\n",
    "\n",
    "A = np.random.randint(1, 10, size=(3, 3))\n",
    "B = np.random.randint(1, 10, size=(3, 3))\n",
    "\n",
    "addition_result = A + B\n",
    "subtraction_result = A - B\n",
    "\n",
    "print(\"Matrix A:\\n\", A)\n",
    "print(\"\\nMatrix B:\\n\", B)\n",
    "print(\"\\nAddition of A and B:\\n\", addition_result)\n",
    "print(\"\\nSubtraction of A and B:\\n\", subtraction_result)"
   ]
  },
  {
   "cell_type": "code",
   "execution_count": 24,
   "id": "178ef8e4-9fe7-4f61-b6e2-29d2554c7bc7",
   "metadata": {},
   "outputs": [
    {
     "name": "stdout",
     "output_type": "stream",
     "text": [
      "Matrix C (3x2):\n",
      " [[2 7]\n",
      " [4 2]\n",
      " [2 8]]\n",
      "\n",
      "Matrix D (2x4):\n",
      " [[3 3 7 5]\n",
      " [7 8 3 6]]\n",
      "\n",
      "Matrix multiplication result (C @ D):\n",
      " [[55 62 35 52]\n",
      " [26 28 34 32]\n",
      " [62 70 38 58]]\n"
     ]
    }
   ],
   "source": [
    "# Q 82:- Generate two matrices `C` (3x2) and `D` (2x4) and perform matrix multiplication.\n",
    "import numpy as np\n",
    "\n",
    "C = np.random.randint(1, 10, size=(3, 2))\n",
    "D = np.random.randint(1, 10, size=(2, 4))\n",
    "\n",
    "result = np.dot(C, D)\n",
    "\n",
    "print(\"Matrix C (3x2):\\n\", C)\n",
    "print(\"\\nMatrix D (2x4):\\n\", D)\n",
    "print(\"\\nMatrix multiplication result (C @ D):\\n\", result)"
   ]
  },
  {
   "cell_type": "code",
   "execution_count": 25,
   "id": "163632b3-dabd-4e26-b912-7eab28762fbe",
   "metadata": {},
   "outputs": [
    {
     "name": "stdout",
     "output_type": "stream",
     "text": [
      "Matrix E:\n",
      " [[6 4]\n",
      " [6 2]\n",
      " [2 1]]\n",
      "\n",
      "Transpose of Matrix E:\n",
      " [[6 6 2]\n",
      " [4 2 1]]\n"
     ]
    }
   ],
   "source": [
    "# Q 83:- Create a matrix `E` and find its transpose.\n",
    "\n",
    "E = np.random.randint(1, 10, size=(3, 2))\n",
    "\n",
    "E_transpose = E.T\n",
    "\n",
    "print(\"Matrix E:\\n\", E)\n",
    "print(\"\\nTranspose of Matrix E:\\n\", E_transpose)"
   ]
  },
  {
   "cell_type": "code",
   "execution_count": 26,
   "id": "9413dc5c-b5e9-4d98-b522-4565b546edcd",
   "metadata": {},
   "outputs": [
    {
     "name": "stdout",
     "output_type": "stream",
     "text": [
      "Matrix F:\n",
      " [[6 6 6]\n",
      " [7 5 2]\n",
      " [1 3 5]]\n",
      "\n",
      "Determinant of Matrix F: 11.999999999999984\n"
     ]
    }
   ],
   "source": [
    "# Q 84:-  Generate a square matrix `F` and compute its determinant.\n",
    "\n",
    "F = np.random.randint(1, 10, size=(3, 3))\n",
    "\n",
    "determinant_F = np.linalg.det(F)\n",
    "\n",
    "print(\"Matrix F:\\n\", F)\n",
    "print(\"\\nDeterminant of Matrix F:\", determinant_F)"
   ]
  },
  {
   "cell_type": "code",
   "execution_count": 27,
   "id": "4f2e921a-fa46-4df5-8096-44e272bb0fcc",
   "metadata": {},
   "outputs": [
    {
     "name": "stdout",
     "output_type": "stream",
     "text": [
      "Matrix G:\n",
      " [[1 2 9]\n",
      " [4 5 5]\n",
      " [7 1 9]]\n",
      "\n",
      "Inverse of Matrix G:\n",
      " [[-0.1659751   0.0373444   0.14522822]\n",
      " [ 0.00414938  0.22406639 -0.12863071]\n",
      " [ 0.12863071 -0.05394191  0.01244813]]\n"
     ]
    }
   ],
   "source": [
    "# Q 85:- Create a square matrix `G` and find its inverse.\n",
    "\n",
    "G = np.random.randint(1, 10, size=(3, 3))\n",
    "\n",
    "determinant_G = np.linalg.det(G)\n",
    "\n",
    "if determinant_G != 0:\n",
    "    G_inverse = np.linalg.inv(G)\n",
    "    print(\"Matrix G:\\n\", G)\n",
    "    print(\"\\nInverse of Matrix G:\\n\", G_inverse)\n",
    "else:\n",
    "    print(\"Matrix G is not invertible (determinant is zero).\")"
   ]
  },
  {
   "cell_type": "code",
   "execution_count": null,
   "id": "30eeb64e-c65a-4b87-aacb-b41594a4f8b1",
   "metadata": {},
   "outputs": [],
   "source": []
  }
 ],
 "metadata": {
  "kernelspec": {
   "display_name": "Python 3 (ipykernel)",
   "language": "python",
   "name": "python3"
  },
  "language_info": {
   "codemirror_mode": {
    "name": "ipython",
    "version": 3
   },
   "file_extension": ".py",
   "mimetype": "text/x-python",
   "name": "python",
   "nbconvert_exporter": "python",
   "pygments_lexer": "ipython3",
   "version": "3.12.7"
  }
 },
 "nbformat": 4,
 "nbformat_minor": 5
}
