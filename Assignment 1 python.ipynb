{
 "cells": [
  {
   "cell_type": "code",
   "execution_count": 2,
   "id": "95094f9b-bb64-4065-bcb2-6cc59fd8fdfa",
   "metadata": {},
   "outputs": [
    {
     "data": {
      "text/plain": [
       "'dlrow olleh'"
      ]
     },
     "execution_count": 2,
     "metadata": {},
     "output_type": "execute_result"
    }
   ],
   "source": [
    "#Q 1 :- Write a code to reverse a string.abs\n",
    "txt = \"hello world\"\n",
    "txt[::-1]"
   ]
  },
  {
   "cell_type": "code",
   "execution_count": 6,
   "id": "63f47d12-58f9-4c5a-be17-76a5ce67acf5",
   "metadata": {},
   "outputs": [
    {
     "data": {
      "text/plain": [
       "11"
      ]
     },
     "execution_count": 6,
     "metadata": {},
     "output_type": "execute_result"
    }
   ],
   "source": [
    "#Q 2 :- Write a code to cout the number of vowels in a sting. \n",
    "text = \"hello world\"\n",
    "len(text)"
   ]
  },
  {
   "cell_type": "code",
   "execution_count": 18,
   "id": "07ba9328-70b9-410a-8c19-c4b55a3fb3c0",
   "metadata": {},
   "outputs": [
    {
     "name": "stdout",
     "output_type": "stream",
     "text": [
      "It is an palindrome\n"
     ]
    }
   ],
   "source": [
    "#Q 3 :- write a code to check if a given string is a palindrome or not. \n",
    "value = \"kanak\"\n",
    "reverse_value = value[::-1]\n",
    "if value == reverse_value:\n",
    "    print(\"It is an palindrome\")\n",
    "else:\n",
    "    print(\"It is not an palindrome\")"
   ]
  },
  {
   "cell_type": "code",
   "execution_count": 24,
   "id": "6e2fd15c-8156-45d5-b29e-9a37561a11e4",
   "metadata": {},
   "outputs": [
    {
     "name": "stdout",
     "output_type": "stream",
     "text": [
      "It is an anagrams\n"
     ]
    }
   ],
   "source": [
    "#Q 4 :- write a code to check if two give strings are anagrams of each other. \n",
    "a1 = \"cat\" \n",
    "a2 = \"act\"\n",
    "\n",
    "if len(a1) == len(a2):\n",
    "    a1_sorted = sorted(a1)\n",
    "    a2_sorted = sorted(a2)\n",
    "    if a1_sorted == a2_sorted:\n",
    "        print(\"It is an anagrams\")\n",
    "    else: \n",
    "        print(\"It is not an anagrams\")"
   ]
  },
  {
   "cell_type": "code",
   "execution_count": 37,
   "id": "cdd2ae5c-cf35-4124-87b9-51b4d9a0c664",
   "metadata": {},
   "outputs": [
    {
     "name": "stdout",
     "output_type": "stream",
     "text": [
      "[0, 13]\n"
     ]
    }
   ],
   "source": [
    "#Q 5 :- Write a code to find all occurrences of agiven substring within another string. \n",
    "s = \"hello world, hello universe\"\n",
    "substring = \"hello\"\n",
    "\n",
    "position = [i for i in range(len(s)) if s.startswith(substring, i)]\n",
    "print(position)"
   ]
  },
  {
   "cell_type": "code",
   "execution_count": 40,
   "id": "8a7f6356-6fc7-4b44-8417-86ec5ce02049",
   "metadata": {},
   "outputs": [
    {
     "name": "stdout",
     "output_type": "stream",
     "text": [
      "13\n"
     ]
    }
   ],
   "source": [
    "# or\n",
    "s = \"hello world, hello universe\"\n",
    "substring1 = s.rfind(\"hello\")\n",
    "print(substring1)"
   ]
  },
  {
   "cell_type": "code",
   "execution_count": 58,
   "id": "39a101e3-412f-4a00-8264-b1ab5ab6650e",
   "metadata": {},
   "outputs": [
    {
     "name": "stdout",
     "output_type": "stream",
     "text": [
      "repeated character ['e']\n"
     ]
    }
   ],
   "source": [
    "#Q 6 :- Write a code to perform basic string compression using the counts of repeated characters. \n",
    "character = \"deepak\"\n",
    "repeated_ch = []\n",
    "\n",
    "for ch in character:\n",
    "    if character.count(ch) > 1 and ch not in repeated_ch:\n",
    "        repeated_ch.append(ch)\n",
    "print(\"repeated character {}\".format(repeated_ch))"
   ]
  },
  {
   "cell_type": "code",
   "execution_count": 63,
   "id": "981a0785-4bef-40cf-ab33-802b8cc52aa7",
   "metadata": {},
   "outputs": [
    {
     "name": "stdout",
     "output_type": "stream",
     "text": [
      "unique character ['h', 'e', 'l', 'o']\n"
     ]
    }
   ],
   "source": [
    "#Q 7 :- Write a code to determine if a string has all unique characters. \n",
    "unique = \"hello\"\n",
    "unique_cht = []\n",
    "\n",
    "for ch in unique:\n",
    "    if unique.count(ch) > 0 and ch not in unique_cht:\n",
    "        unique_cht.append(ch)\n",
    "print(\"unique character {}\".format(unique_cht))"
   ]
  },
  {
   "cell_type": "code",
   "execution_count": 64,
   "id": "675d66ba-e35c-4264-850c-e745aad5dd5a",
   "metadata": {},
   "outputs": [
    {
     "name": "stdout",
     "output_type": "stream",
     "text": [
      "HELLO WORLD\n"
     ]
    }
   ],
   "source": [
    "#Q 8 :- Write a code to convert a given string to Usupercase or lowercase. \n",
    "abc = \"Hello World\"\n",
    "print(abc.upper())"
   ]
  },
  {
   "cell_type": "code",
   "execution_count": 65,
   "id": "dc97c4a2-11ec-46c2-9a79-1b3c0fc948c7",
   "metadata": {},
   "outputs": [
    {
     "name": "stdout",
     "output_type": "stream",
     "text": [
      "hello world\n"
     ]
    }
   ],
   "source": [
    "print(abc.lower())"
   ]
  },
  {
   "cell_type": "code",
   "execution_count": 87,
   "id": "8b383ec4-9633-4fd8-a57a-949ae9267aa7",
   "metadata": {},
   "outputs": [
    {
     "name": "stdout",
     "output_type": "stream",
     "text": [
      "5\n"
     ]
    }
   ],
   "source": [
    "#Q 9 :- Write a code to count the number of words in a string. \n",
    "cout = \"Hello My Name Is Deepak\".split(\" \")\n",
    "print(len(cout))"
   ]
  },
  {
   "cell_type": "code",
   "execution_count": 1,
   "id": "3a3a86ae-7768-45fa-9d64-f5c55dca34ce",
   "metadata": {},
   "outputs": [
    {
     "name": "stdout",
     "output_type": "stream",
     "text": [
      "deepak kumar\n"
     ]
    }
   ],
   "source": [
    "#Q 10 :- Write a code to concatenate tow strings without the + opretor. \n",
    "name = \"deepak\"\n",
    "full_name = \"kumar\"\n",
    "print(name,full_name)"
   ]
  },
  {
   "cell_type": "code",
   "execution_count": 3,
   "id": "ae947c63-28a2-485e-b5fd-1a2c3f639fcf",
   "metadata": {},
   "outputs": [
    {
     "name": "stdout",
     "output_type": "stream",
     "text": [
      "[22, 21, 45, 50, 33, 22]\n"
     ]
    }
   ],
   "source": [
    "#Q 11 :- Write a code to remove all occurrences of a spesific element from a list. \n",
    "sample_list = [11, 22, 21, 11, 45, 11,50, 33, 22,]\n",
    "value = 11\n",
    "\n",
    "while value in sample_list:\n",
    "    sample_list.remove(value)\n",
    "\n",
    "print(sample_list)"
   ]
  },
  {
   "cell_type": "code",
   "execution_count": 1,
   "id": "e83de25a-c831-4bd3-bc0e-0ee05929e613",
   "metadata": {},
   "outputs": [
    {
     "name": "stdout",
     "output_type": "stream",
     "text": [
      "second largest number :-  62\n"
     ]
    }
   ],
   "source": [
    "#Q 12 :- implement a code to find the second largest number in a given list of integers. \n",
    "l = [52, 60, 80, 12, 9, 62]\n",
    "l.sort()\n",
    "print(\"second largest number :- \", l[-2])"
   ]
  },
  {
   "cell_type": "code",
   "execution_count": 1,
   "id": "475e470f-d1dd-41e2-b83f-39a6ee9c040f",
   "metadata": {},
   "outputs": [
    {
     "ename": "ImportError",
     "evalue": "cannot import name 'counter' from 'collections' (C:\\ProgramData\\anaconda3\\Lib\\collections\\__init__.py)",
     "output_type": "error",
     "traceback": [
      "\u001b[1;31m---------------------------------------------------------------------------\u001b[0m",
      "\u001b[1;31mImportError\u001b[0m                               Traceback (most recent call last)",
      "Cell \u001b[1;32mIn[1], line 2\u001b[0m\n\u001b[0;32m      1\u001b[0m \u001b[38;5;66;03m#Q 13 :- Create a code to count the occurrences of each element in a list and return a dictionry with element as keys and their counts as values. \u001b[39;00m\n\u001b[1;32m----> 2\u001b[0m \u001b[38;5;28;01mfrom\u001b[39;00m \u001b[38;5;21;01mcollections\u001b[39;00m \u001b[38;5;28;01mimport\u001b[39;00m counter\n\u001b[0;32m      4\u001b[0m colous \u001b[38;5;241m=\u001b[39m [\u001b[38;5;124m\"\u001b[39m\u001b[38;5;124mred\u001b[39m\u001b[38;5;124m\"\u001b[39m, \u001b[38;5;124m\"\u001b[39m\u001b[38;5;124mgreen\u001b[39m\u001b[38;5;124m\"\u001b[39m, \u001b[38;5;124m\"\u001b[39m\u001b[38;5;124mpink\u001b[39m\u001b[38;5;124m\"\u001b[39m, \u001b[38;5;124m\"\u001b[39m\u001b[38;5;124mgreen\u001b[39m\u001b[38;5;124m\"\u001b[39m, \u001b[38;5;124m\"\u001b[39m\u001b[38;5;124mblue\u001b[39m\u001b[38;5;124m\"\u001b[39m, \u001b[38;5;124m\"\u001b[39m\u001b[38;5;124mred\u001b[39m\u001b[38;5;124m\"\u001b[39m, \u001b[38;5;124m\"\u001b[39m\u001b[38;5;124mgreen\u001b[39m\u001b[38;5;124m\"\u001b[39m, \u001b[38;5;124m\"\u001b[39m\u001b[38;5;124mgreen\u001b[39m\u001b[38;5;124m\"\u001b[39m]\n\u001b[0;32m      5\u001b[0m x \u001b[38;5;241m=\u001b[39m counter(colous)\n",
      "\u001b[1;31mImportError\u001b[0m: cannot import name 'counter' from 'collections' (C:\\ProgramData\\anaconda3\\Lib\\collections\\__init__.py)"
     ]
    }
   ],
   "source": [
    "#Q 13 :- Create a code to count the occurrences of each element in a list and return a dictionry with element as keys and their counts as values. \n",
    "from collections import counter\n",
    "\n",
    "colous = [\"red\", \"green\", \"pink\", \"green\", \"blue\", \"red\", \"green\", \"green\"]\n",
    "x = counter(colous)\n",
    "print(x)"
   ]
  },
  {
   "cell_type": "code",
   "execution_count": 5,
   "id": "5ec723ee-8b08-400d-aabd-9d11a106aa58",
   "metadata": {},
   "outputs": [
    {
     "name": "stdout",
     "output_type": "stream",
     "text": [
      "[210, 40, 27, 54, 42, 80, 12]\n"
     ]
    }
   ],
   "source": [
    "#Q 14 :- Write acode to reverse a list in-place without using any bouilt-in reverse funtions. \n",
    "normal_list = [12, 80, 42, 54, 27, 40, 210]\n",
    "normal_list.reverse()\n",
    "print(normal_list)"
   ]
  },
  {
   "cell_type": "code",
   "execution_count": 7,
   "id": "33d4ea84-6c8e-4116-8d1d-233b09ffd47a",
   "metadata": {},
   "outputs": [
    {
     "name": "stdout",
     "output_type": "stream",
     "text": [
      "[120, 200, 320, 400, 500]\n"
     ]
    }
   ],
   "source": [
    "#Q 15 :- implement acode to find and remove duplicates from a list while preserving the original order of elements. \n",
    "duplicate_list = [120, 200, 320, 200, 400, 120, 120, 500]\n",
    "remove_duplicate = []\n",
    "\n",
    "for i in duplicate_list:\n",
    "    if i not in remove_duplicate:\n",
    "        remove_duplicate.append(i)\n",
    "print(remove_duplicate)"
   ]
  },
  {
   "cell_type": "code",
   "execution_count": 37,
   "id": "f15812c6-a9a4-4e1b-bc90-52966f8908eb",
   "metadata": {},
   "outputs": [
    {
     "name": "stdout",
     "output_type": "stream",
     "text": [
      "True\n"
     ]
    }
   ],
   "source": [
    "#Q 16 :- create acode to check if a given list is sorted (either in ascending or descending order) or not. \n",
    "L = [100, 150, 500]\n",
    "\n",
    "                   # for chechiking ascending order\n",
    "print(all(L[i] <= L[i + 1] for i in range(len(L) - 1)))"
   ]
  },
  {
   "cell_type": "code",
   "execution_count": 40,
   "id": "2af68318-26d1-461d-9440-5f599205d91d",
   "metadata": {},
   "outputs": [
    {
     "name": "stdout",
     "output_type": "stream",
     "text": [
      "True\n"
     ]
    }
   ],
   "source": [
    "                    # for checking descending order \n",
    "B = [5, 4, 3, 2, 1]\n",
    "print(all(B[i] >= B[i + 1] for i in range(len(B) - 1)))"
   ]
  },
  {
   "cell_type": "code",
   "execution_count": 12,
   "id": "21f77549-bd9d-4f20-b1e4-a663529647f7",
   "metadata": {},
   "outputs": [
    {
     "name": "stdout",
     "output_type": "stream",
     "text": [
      "[1, 4, 9, 10, 29, 30, 41, 50, 150]\n"
     ]
    }
   ],
   "source": [
    "#Q 17 :- Write a code to merge two sorted lists into a single sorted list. \n",
    "list1 = [1, 50, 10, 9, 150]\n",
    "list1.sort()\n",
    "list2 = [30, 4, 29, 41]\n",
    "list2.sort()\n",
    "\n",
    "from heapq import merge\n",
    "list3 = list(merge(list1, list2))\n",
    "list3.sort()\n",
    "print(list3)"
   ]
  },
  {
   "cell_type": "code",
   "execution_count": 24,
   "id": "50f9c562-28dd-43d1-90b0-f22fa4551863",
   "metadata": {},
   "outputs": [
    {
     "name": "stdout",
     "output_type": "stream",
     "text": [
      "[10, 30]\n"
     ]
    }
   ],
   "source": [
    "#Q 18 :- implement a code to find the intersection of two given lists. \n",
    "list_one = [5 , 10, 15, 30]\n",
    "list_two = [10, 20, 30, 40]\n",
    "set(list_two)\n",
    "\n",
    "run = list(set(list_one) & set(list_two))\n",
    "print(run)"
   ]
  },
  {
   "cell_type": "code",
   "execution_count": 26,
   "id": "fde5828d-4a46-4e51-aa3c-61abd915a507",
   "metadata": {},
   "outputs": [
    {
     "name": "stdout",
     "output_type": "stream",
     "text": [
      "[5, 10, 15, 50, 20, 30]\n"
     ]
    }
   ],
   "source": [
    "#Q 19 :-creat acode to find the union of two lits without duplicates. \n",
    "L1 = [5, 10, 20, 15]\n",
    "L2 = [10, 15, 30, 50]\n",
    "\n",
    "L3 = list(set(L1 + L2))\n",
    "print(L3)"
   ]
  },
  {
   "cell_type": "code",
   "execution_count": 27,
   "id": "2854b122-6f0b-496f-928e-e4957eeba7d4",
   "metadata": {},
   "outputs": [
    {
     "name": "stdout",
     "output_type": "stream",
     "text": [
      "shuffle participants ['savita', 'manju', 'neha', 'joshna', 'sonam']\n"
     ]
    }
   ],
   "source": [
    "#Q 20 :- write a code to shuffle a give list randomly without using any built-in shuffle funtions. \n",
    "import random\n",
    "participants = [\"joshna\", \"manju\", \"savita\", \"neha\", \"sonam\"]\n",
    "\n",
    "random.shuffle(participants)\n",
    "print(\"shuffle participants\", participants)"
   ]
  },
  {
   "cell_type": "code",
   "execution_count": 10,
   "id": "3796d764-84ff-4af7-a95c-f1943480fea1",
   "metadata": {},
   "outputs": [
    {
     "name": "stdin",
     "output_type": "stream",
     "text": [
      "enter first tuple :- 2,4,6,8,10\n",
      "enter second tuple :- 10,3,6,2,7\n"
     ]
    },
    {
     "name": "stdout",
     "output_type": "stream",
     "text": [
      "(2, 10, 6)\n"
     ]
    }
   ],
   "source": [
    "#Q 21 :- Write a code that takes two tuples as input and returns a new tuple containing element that are common to both input tuple \n",
    "tup1 = eval(input(\"enter first tuple :-\"))\n",
    "tup2 = eval(input(\"enter second tuple :-\"))\n",
    "\n",
    "tup3 = set(tup1) & set(tup2)\n",
    "print(tuple(tup3))\n",
    "    \n"
   ]
  },
  {
   "cell_type": "code",
   "execution_count": 8,
   "id": "8f897e43-9970-4346-9efd-c3ed62c08efe",
   "metadata": {},
   "outputs": [
    {
     "name": "stdin",
     "output_type": "stream",
     "text": [
      "enter the first set 10,20,30,40,50\n",
      "enter the second set 60,70,80,20,10\n"
     ]
    },
    {
     "name": "stdout",
     "output_type": "stream",
     "text": [
      "{10, 20}\n"
     ]
    }
   ],
   "source": [
    "#Q 22 :- creat a code that prompts the user to enter two sets of integers seprated by commas. then print the intersection of these two sets. \n",
    "set1_input = input(\"enter the first set\")\n",
    "set2_input = input(\"enter the second set\")\n",
    "\n",
    "set1 = set(map(int,set1_input.split(\",\")))\n",
    "set2 = set(map(int,set2_input.split(\",\")))\n",
    "\n",
    "intersection = set1.intersection(set2)\n",
    "print(intersection)"
   ]
  },
  {
   "cell_type": "code",
   "execution_count": 11,
   "id": "1cb27e94-bf28-416a-b74e-3018c6e3a04a",
   "metadata": {},
   "outputs": [
    {
     "name": "stdout",
     "output_type": "stream",
     "text": [
      "(1, 2, 3, 4, 5, 6)\n"
     ]
    }
   ],
   "source": [
    "#Q 23 :- write a code to concatenate two tuple the funtion should take tuple as input and return a new tuple containing elements from boh input tuples\n",
    "def concatenate_tuple(tuple1,tuple2):\n",
    "    return tuple1 + tuple2\n",
    "\n",
    "tuple_a = (1,2,3)\n",
    "tuple_b = (4,5,6)\n",
    "result = concatenate_tuple(tuple_a, tuple_b)\n",
    "\n",
    "print(result)"
   ]
  },
  {
   "cell_type": "code",
   "execution_count": 10,
   "id": "5302bf41-f7c8-43d6-992d-20ac9f57d295",
   "metadata": {},
   "outputs": [
    {
     "name": "stdin",
     "output_type": "stream",
     "text": [
      "enter the name :- deepak,ajay,kunam\n",
      "enter the second name :- ajay\n"
     ]
    },
    {
     "name": "stdout",
     "output_type": "stream",
     "text": [
      "{'kunam', 'deepak'}\n"
     ]
    }
   ],
   "source": [
    "#Q 24 :- Develop a code that prompts the user to input to input two sets of strings. then print elements than are present in the first set but \n",
    "         #not in the second set. \n",
    "set1 = input(\"enter the name :-\").split(\",\")\n",
    "set1 = set(set1)\n",
    "\n",
    "set2 = input(\"enter the second name :-\").split(\",\")\n",
    "set2 = set(set2)\n",
    "\n",
    "set3 = set1 - set2\n",
    "print(set3)"
   ]
  },
  {
   "cell_type": "code",
   "execution_count": 12,
   "id": "ed2ac931-73c7-4a8e-8692-0a6c995e40ff",
   "metadata": {},
   "outputs": [
    {
     "name": "stdout",
     "output_type": "stream",
     "text": [
      "(3, 4, 5, 6)\n"
     ]
    }
   ],
   "source": [
    "#Q 25 :- create a code that takes a tuple and two integers as input. the function should return a new tuple containing element from the original \n",
    "         #tuple within the specified range of indices.\n",
    "def slice_tuple(original_tuple: tuple, start: int, end: int):\n",
    "    return original_tuple[start:end]\n",
    "\n",
    "tuple_data = (1, 2, 3, 4, 5, 6, 7, 8, 9)\n",
    "start_index = 2\n",
    "end_index = 6\n",
    "\n",
    "sliced_tuple = slice_tuple(tuple_data, start_index, end_index)\n",
    "print(sliced_tuple)"
   ]
  },
  {
   "cell_type": "code",
   "execution_count": 15,
   "id": "33bdfceb-82ca-4a46-acff-e7a4191cfe84",
   "metadata": {
    "scrolled": true
   },
   "outputs": [
    {
     "name": "stdin",
     "output_type": "stream",
     "text": [
      "Enter the first set of characters:-  salman,sharukh,amir\n",
      "Enter the second set of characters:-  amir,deepak,rohit\n"
     ]
    },
    {
     "name": "stdout",
     "output_type": "stream",
     "text": [
      "{'rohit', 'deepak', 'salman', 'sharukh', 'amir'}\n"
     ]
    }
   ],
   "source": [
    "#Q 26 :- write a code than prompts the user to input two sets of characters then print the union of these two sets\n",
    "set1 = input(\"Enter the first set of characters:- \").split(\",\")\n",
    "set1 = set(set1)\n",
    "set2 = input(\"Enter the second set of characters:- \").split(\",\")\n",
    "set2 = set(set2)\n",
    "\n",
    "union_set = set1 | set2\n",
    "print(union_set)"
   ]
  },
  {
   "cell_type": "code",
   "execution_count": 17,
   "id": "409bc313-e1c9-4d21-bc3d-8a7a2b1d6c42",
   "metadata": {},
   "outputs": [
    {
     "name": "stdout",
     "output_type": "stream",
     "text": [
      "Minimum: 2, Maximum: 100\n"
     ]
    }
   ],
   "source": [
    "#Q 27 :- develop a code that takes atuple of integers as input the functions shuld return the maximum and minimum values from the tuple \n",
    "         #using tuple unpacking\n",
    "tuple_list = (20,2,100,50)\n",
    "max_value = max(tuple_list)\n",
    "min_value = min(tuple_list)\n",
    "\n",
    "\n",
    "print(f\"Minimum: {min_value}, Maximum: {max_value}\")\n"
   ]
  },
  {
   "cell_type": "code",
   "execution_count": 18,
   "id": "f8020c07-4f50-4970-bc7a-7bc55a14b3c1",
   "metadata": {},
   "outputs": [
    {
     "name": "stdout",
     "output_type": "stream",
     "text": [
      "Union: {1, 2, 3, 4, 5, 6, 7, 8}\n",
      "Intersection: {4, 5}\n",
      "Difference (set1 - set2): {1, 2, 3}\n",
      "Difference (set2 - set1): {8, 6, 7}\n"
     ]
    }
   ],
   "source": [
    "#Q 28 :- creat a code than defines two sets of integers then print the union intersection and difference of these two sets\n",
    "set1 = {1, 2, 3, 4, 5}\n",
    "set2 = {4, 5, 6, 7, 8}\n",
    "\n",
    "union_set = set1 | set2  \n",
    "print(\"Union:\", union_set)\n",
    "\n",
    "intersection_set = set1 & set2\n",
    "print(\"Intersection:\", intersection_set)\n",
    "\n",
    "\n",
    "difference_set1 = set1 - set2\n",
    "difference_set2 = set2 - set1\n",
    "print(\"Difference (set1 - set2):\", difference_set1)\n",
    "print(\"Difference (set2 - set1):\", difference_set2)\n"
   ]
  },
  {
   "cell_type": "code",
   "execution_count": 20,
   "id": "23890c7c-ca2c-4d44-8774-b77661b887ca",
   "metadata": {},
   "outputs": [
    {
     "name": "stdout",
     "output_type": "stream",
     "text": [
      "3\n"
     ]
    }
   ],
   "source": [
    "#Q 29 :- write a code that takes a tuple and an element as input the funtion should return the count of occurrencess of the given element in the tuple\n",
    "def count_occurrences(tup, element):\n",
    "    \n",
    "    return tup.count(element)\n",
    "\n",
    "tuple_data = (1, 2, 3, 4, 2, 2, 5)\n",
    "element_to_count = 2\n",
    "print(count_occurrences(tuple_data, element_to_count)) "
   ]
  },
  {
   "cell_type": "code",
   "execution_count": 1,
   "id": "ea383b4c-d9bc-425d-999b-449c43cac7a4",
   "metadata": {},
   "outputs": [
    {
     "name": "stdin",
     "output_type": "stream",
     "text": [
      "enter the set 1 deepak,ajay\n",
      "enter the set 2 ajay,kumar\n"
     ]
    },
    {
     "name": "stdout",
     "output_type": "stream",
     "text": [
      "{'kumar', 'deepak'}\n"
     ]
    }
   ],
   "source": [
    "#Q 30 :- develop acode thant prompts the user to user to input two sest of srings. then print the symmetric diffence of these two sets\n",
    "input_set_1 = input(\"enter the set 1\").split(\",\")\n",
    "input_set_1 = set(input_set_1)\n",
    "\n",
    "input_set_2 = input(\"enter the set 2\").split(\",\")\n",
    "input_set_2 = set(input_set_2)\n",
    "\n",
    "symmetric_set = input_set_1 ^ input_set_2\n",
    "print(symmetric_set)"
   ]
  },
  {
   "cell_type": "code",
   "execution_count": 13,
   "id": "67f43e6c-86c6-4dd5-8c3b-775b9ae8c9ab",
   "metadata": {},
   "outputs": [
    {
     "name": "stdout",
     "output_type": "stream",
     "text": [
      "{'apple': 3, 'banana': 2, 'orange': 1}\n"
     ]
    }
   ],
   "source": [
    "#Q 31 :- write a code takes a list of words as input and returns a dictionary where the keys are unique words and the values are the \n",
    "         #frequencies of those words in the input list\n",
    "def world_frequencies(words):\n",
    "     frequency_dict = {}\n",
    "     for word in words:\n",
    "         frequency_dict[word] = frequency_dict.get(word, 0) + 1\n",
    "     return frequency_dict\n",
    "\n",
    "words_list = [\"apple\", \"banana\", \"apple\", \"orange\", \"banana\", \"apple\"]\n",
    "print(world_frequencies(words_list))\n"
   ]
  },
  {
   "cell_type": "code",
   "execution_count": 19,
   "id": "cb429640-241d-4d5f-9d4d-59db60bcb180",
   "metadata": {},
   "outputs": [
    {
     "name": "stdout",
     "output_type": "stream",
     "text": [
      "{'d': 6, 'c': [3, 5], 'a': 1, 'b': [2, 4]}\n"
     ]
    }
   ],
   "source": [
    "#Q 32 :- write a code that takes two dictionaries as input and merges them into a single dictionary. if there are common key the values\n",
    "         #should be those words in the input list\n",
    "def merge_dictionaries(dict1, dict2):\n",
    "    merged_dict = {}\n",
    "    \n",
    "    for key in set(dict1) | set(dict2):  \n",
    "        if key in dict1 and key in dict2:\n",
    "            merged_dict[key] = [dict1[key], dict2[key]] \n",
    "        elif key in dict1:\n",
    "            merged_dict[key] = dict1[key]\n",
    "        else:\n",
    "            merged_dict[key] = dict2[key]\n",
    "    \n",
    "    return merged_dict\n",
    "\n",
    "\n",
    "dict1 = {\"a\": 1, \"b\": 2, \"c\": 3}\n",
    "dict2 = {\"b\": 4, \"c\": 5, \"d\": 6}\n",
    "\n",
    "merged = merge_dictionaries(dict1, dict2)\n",
    "print(merged) \n"
   ]
  },
  {
   "cell_type": "code",
   "execution_count": 21,
   "id": "7bdf7b29-785b-4916-8192-64b163aded48",
   "metadata": {},
   "outputs": [
    {
     "name": "stdout",
     "output_type": "stream",
     "text": [
      "42\n",
      "None\n"
     ]
    }
   ],
   "source": [
    "#Q 33 :- write a code to access a value in a nested dictionary the functionary should take the dictionary and a list af keys as input and return\n",
    "         #the corresponding value if any of the keys do not exist in the dictionary the function should return none \n",
    "def get_nested_value(d, keys):\n",
    "    \n",
    "    current = d\n",
    "    for key in keys:\n",
    "        if isinstance(current, dict) and key in current:\n",
    "            current = current[key]\n",
    "        else:\n",
    "            return None\n",
    "    return current\n",
    "\n",
    "\n",
    "nested_dict = {\n",
    "    \"a\": {\n",
    "        \"b\": {\n",
    "            \"c\": 42\n",
    "        }\n",
    "    }\n",
    "}\n",
    "keys = [\"a\", \"b\", \"c\"]\n",
    "print(get_nested_value(nested_dict, keys))  \n",
    "\n",
    "keys = [\"a\", \"x\", \"c\"]\n",
    "print(get_nested_value(nested_dict, keys))  "
   ]
  },
  {
   "cell_type": "code",
   "execution_count": 22,
   "id": "f6ba811f-914a-4ae0-a2c3-32553cc620ae",
   "metadata": {},
   "outputs": [
    {
     "name": "stdout",
     "output_type": "stream",
     "text": [
      "Ascending: {'banana': 1, 'cherry': 2, 'apple': 3}\n",
      "Descending: {'apple': 3, 'cherry': 2, 'banana': 1}\n"
     ]
    }
   ],
   "source": [
    "#Q 34 :- write a code that takes a dictionary as input and and returns a sorted version of it based on the values you can choose whether to\n",
    "         #sort in ascending or descending order\n",
    "def sort_dict_by_value(d, ascending=True):\n",
    "   \n",
    "    return dict(sorted(d.items(), key=lambda item: item[1], reverse=not ascending))\n",
    "\n",
    "data = {'apple': 3, 'banana': 1, 'cherry': 2}\n",
    "sorted_dict_asc = sort_dict_by_value(data, ascending=True)\n",
    "sorted_dict_desc = sort_dict_by_value(data, ascending=False)\n",
    "\n",
    "print(\"Ascending:\", sorted_dict_asc)\n",
    "print(\"Descending:\", sorted_dict_desc)"
   ]
  },
  {
   "cell_type": "code",
   "execution_count": 23,
   "id": "abcf3fa6-2a9d-41ad-977d-f247e2b5a754",
   "metadata": {},
   "outputs": [
    {
     "name": "stdout",
     "output_type": "stream",
     "text": [
      "{1: ['a', 'c'], 2: ['b', 'e'], 3: ['d']}\n"
     ]
    }
   ],
   "source": [
    "#Q 35 :- write a code that inverts a dictionary swapping keys and value Ensure that the inverted dictionary correctly handles cases where\n",
    "         #multiple keys hove the some value by storing the keys as a list in the inverted dictionary\n",
    "def invert_dict(d):\n",
    "    inverted = {}\n",
    "    for key, value in d.items():\n",
    "        if value in inverted:\n",
    "            inverted[value].append(key)\n",
    "        else:\n",
    "            inverted[value] = [key]\n",
    "    return inverted\n",
    "\n",
    "\n",
    "d = {'a': 1, 'b': 2, 'c': 1, 'd': 3, 'e': 2}\n",
    "inverted_d = invert_dict(d)\n",
    "print(inverted_d)  \n"
   ]
  },
  {
   "cell_type": "code",
   "execution_count": null,
   "id": "9dbcbc2e-3eef-435f-942f-97548f0fedfb",
   "metadata": {},
   "outputs": [],
   "source": []
  }
 ],
 "metadata": {
  "kernelspec": {
   "display_name": "Python 3 (ipykernel)",
   "language": "python",
   "name": "python3"
  },
  "language_info": {
   "codemirror_mode": {
    "name": "ipython",
    "version": 3
   },
   "file_extension": ".py",
   "mimetype": "text/x-python",
   "name": "python",
   "nbconvert_exporter": "python",
   "pygments_lexer": "ipython3",
   "version": "3.12.7"
  }
 },
 "nbformat": 4,
 "nbformat_minor": 5
}
