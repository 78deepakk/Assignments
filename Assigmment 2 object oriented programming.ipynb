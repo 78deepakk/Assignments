{
 "cells": [
  {
   "cell_type": "markdown",
   "id": "8f1b83b0-912f-49ff-8b42-5051a2eb986f",
   "metadata": {},
   "source": [
    "#Q 1 :- Explain the importance of function\n",
    "\n",
    "Ans :- The concept of a function is fundamental in many areas—mathematics, programming, science, and everyday life. Here's an explanation of its importance depending on the context:\n"
   ]
  },
  {
   "cell_type": "code",
   "execution_count": 7,
   "id": "d9ee5953-6f80-4e60-990d-a05580ce1d60",
   "metadata": {},
   "outputs": [],
   "source": [
    "#Q 2 :- White a basic funtion to greet students.\n",
    "def greet_student(name):\n",
    "    print(f\"hello {name} wellcome to the class\")\n"
   ]
  },
  {
   "cell_type": "code",
   "execution_count": 8,
   "id": "61cef53d-f6b8-438f-9812-f85f276f49bf",
   "metadata": {},
   "outputs": [
    {
     "name": "stdout",
     "output_type": "stream",
     "text": [
      "hello deepak wellcome to the class\n"
     ]
    }
   ],
   "source": [
    "greet_student(\"deepak\")"
   ]
  },
  {
   "cell_type": "markdown",
   "id": "34eb3abb-6e9c-4228-9a06-64b07ba727d8",
   "metadata": {},
   "source": [
    "Q 3 what is the defference between print and return statement?\n",
    "\n",
    "Ans :- print Statement :-\n",
    "Purpose: Displays something on the screen (console).\n",
    "Used for: Showing messages, results, or debugging.\n",
    "It does not give a value back to the program.\n",
    "\n",
    "return Statement :-\n",
    "Purpose: Sends a value back to the part of the program that called the function.\n",
    "Used for: Storing or using the result later in the program.\n",
    "Does not automatically display anything."
   ]
  },
  {
   "cell_type": "markdown",
   "id": "4c716603-5a63-40cf-b16e-f60f9ace3a23",
   "metadata": {},
   "source": [
    "Q 4 :- What are *args and **Kwargs\n",
    "\n",
    "Ans :- *args – Non-keyword (positional) arguments :-\n",
    "It allows a function to accept any number of positional arguments.\n",
    "args is just a name — you could use *students, *numbers, etc., but by convention we use *args."
   ]
  },
  {
   "cell_type": "code",
   "execution_count": 9,
   "id": "0e178bd8-d83a-41c7-8040-1762ee39ffc6",
   "metadata": {},
   "outputs": [],
   "source": [
    "def greet_student(*args):\n",
    "    for name in args:\n",
    "        print(f\"hello {name}\")"
   ]
  },
  {
   "cell_type": "code",
   "execution_count": 10,
   "id": "cc0c30c9-052d-4861-844b-86a896164227",
   "metadata": {},
   "outputs": [
    {
     "name": "stdout",
     "output_type": "stream",
     "text": [
      "hello deepak\n",
      "hello ajay\n",
      "hello rekha\n"
     ]
    }
   ],
   "source": [
    "greet_student(\"deepak\",\"ajay\",\"rekha\")"
   ]
  },
  {
   "cell_type": "markdown",
   "id": "7dedb8ad-3783-4ae8-ad15-e048b7a1b81a",
   "metadata": {},
   "source": [
    "Ans :-  **kwargs – Keyword arguments (with names)\n",
    "Lets you pass any number of keyword arguments (i.e., with keys/labels).\n",
    "kwargs stands for “keyword arguments” and becomes a dictionary inside the function."
   ]
  },
  {
   "cell_type": "code",
   "execution_count": 21,
   "id": "98e55c45-2ef2-4b3b-8bed-84f0fb8ed372",
   "metadata": {},
   "outputs": [],
   "source": [
    "def greet_student(**kwargs):\n",
    "    for keys,value in kwargs.items():\n",
    "        print(f\"{keys} : {value}\")"
   ]
  },
  {
   "cell_type": "code",
   "execution_count": 22,
   "id": "e55ab321-2a5d-4eb8-9c82-c110527e4f9d",
   "metadata": {},
   "outputs": [
    {
     "name": "stdout",
     "output_type": "stream",
     "text": [
      "name : deepak\n",
      "age : 24\n",
      "student : Data Analyst\n"
     ]
    }
   ],
   "source": [
    "greet_student(name=\"deepak\", age= 24, student=\"Data Analyst\")"
   ]
  },
  {
   "cell_type": "markdown",
   "id": "6b33eb9f-4f1a-4816-94ba-8e63cb2938e9",
   "metadata": {},
   "source": [
    "Q 5 :- Explain the iterator function.\n",
    "\n",
    "Ans :- An iterator is an object in Python that allows you to traverse (loop through) a sequence of data, one item at a time.\n",
    "\n",
    "It implements two main methods:\n",
    "__iter__() – returns the iterator object itself.\n",
    "__next__() – returns the next item in the sequence. If there are no more items, it raises a StopIteration error."
   ]
  },
  {
   "cell_type": "code",
   "execution_count": 23,
   "id": "f030fd89-c0a4-43cb-827a-d122e80ae930",
   "metadata": {},
   "outputs": [],
   "source": [
    "#Q 6 :- Write a code that generates the sqiares of numbers form 1 to n using a generator\n",
    "def generate_squares(n):\n",
    "    for i in range(1, n + 1):\n",
    "        yield i * i"
   ]
  },
  {
   "cell_type": "code",
   "execution_count": 24,
   "id": "2442433a-f83d-4392-942e-9d96c3a19ffd",
   "metadata": {},
   "outputs": [
    {
     "name": "stdout",
     "output_type": "stream",
     "text": [
      "1\n",
      "4\n",
      "9\n",
      "16\n",
      "25\n"
     ]
    }
   ],
   "source": [
    "n = 5 \n",
    "for square in generate_squares(n):\n",
    "    print(square)"
   ]
  },
  {
   "cell_type": "code",
   "execution_count": 26,
   "id": "0fa03574-f2c7-43e3-a5e4-654f9deef569",
   "metadata": {},
   "outputs": [],
   "source": [
    "#Q 7 :- write a code that generates polindromic number u to n using generator\n",
    "def generate_palindromes(n):\n",
    "    for i in range(1, n + 1):\n",
    "        if str(i) == str(i)[::-1]:\n",
    "            yield i"
   ]
  },
  {
   "cell_type": "code",
   "execution_count": 27,
   "id": "46dd78fc-2de6-4871-a7c0-43cebc5300f0",
   "metadata": {},
   "outputs": [
    {
     "name": "stdout",
     "output_type": "stream",
     "text": [
      "1\n",
      "2\n",
      "3\n",
      "4\n",
      "5\n",
      "6\n",
      "7\n",
      "8\n",
      "9\n",
      "11\n",
      "22\n",
      "33\n",
      "44\n",
      "55\n",
      "66\n",
      "77\n",
      "88\n",
      "99\n",
      "101\n",
      "111\n",
      "121\n",
      "131\n",
      "141\n",
      "151\n",
      "161\n",
      "171\n",
      "181\n",
      "191\n"
     ]
    }
   ],
   "source": [
    "n = 200  \n",
    "for p in generate_palindromes(n):\n",
    "    print(p)"
   ]
  },
  {
   "cell_type": "code",
   "execution_count": 64,
   "id": "ececd043-7d86-45ef-a5dd-d6b1661282a7",
   "metadata": {},
   "outputs": [],
   "source": [
    "#Q 8 :- write a code that generater even number from 2 to n using a generator\n",
    "def generater_class(n):\n",
    "    for i in range(2,n + 1, 2):\n",
    "        yield i "
   ]
  },
  {
   "cell_type": "code",
   "execution_count": 65,
   "id": "a52c2d1e-53d7-4eea-8014-5258c4498e47",
   "metadata": {},
   "outputs": [
    {
     "name": "stdout",
     "output_type": "stream",
     "text": [
      "2\n",
      "4\n",
      "6\n",
      "8\n",
      "10\n",
      "12\n",
      "14\n",
      "16\n",
      "18\n",
      "20\n"
     ]
    }
   ],
   "source": [
    "n = 20\n",
    "for i in generater_class(n):\n",
    "    print(i)"
   ]
  },
  {
   "cell_type": "code",
   "execution_count": 70,
   "id": "5bd2dd0f-35a0-4668-8378-b31d924c4a87",
   "metadata": {},
   "outputs": [],
   "source": [
    "#Q 9 :- write a code that generates powers of two up to n using a generator\n",
    "def generate_powers_of_two(n):\n",
    "    for i in range(n + 1):\n",
    "        yield 2 ** i"
   ]
  },
  {
   "cell_type": "code",
   "execution_count": 71,
   "id": "b5044730-179e-4179-9e2a-6c86735628f8",
   "metadata": {},
   "outputs": [
    {
     "name": "stdout",
     "output_type": "stream",
     "text": [
      "1\n",
      "2\n",
      "4\n",
      "8\n",
      "16\n",
      "32\n"
     ]
    }
   ],
   "source": [
    "n = 5 \n",
    "for power in generate_powers_of_two(n):\n",
    "    print(power)"
   ]
  },
  {
   "cell_type": "code",
   "execution_count": 73,
   "id": "742959aa-8df2-49ab-a17e-ad32cbda4726",
   "metadata": {},
   "outputs": [],
   "source": [
    "#Q 10 :- write a code that generates prime number up to n using generator\n",
    "def is_prime(num):\n",
    "    if num < 2:\n",
    "        return False\n",
    "    for i in range(2, int(num**0.5) + 1):\n",
    "        if num % i == 0:\n",
    "            return False\n",
    "    return True\n",
    "\n",
    "def prime_generator(n):\n",
    "    for num in range(2, n + 1):\n",
    "        if is_prime(num):\n",
    "            yield num"
   ]
  },
  {
   "cell_type": "code",
   "execution_count": 74,
   "id": "2de10f09-8872-4c0b-a910-ce346ee92648",
   "metadata": {},
   "outputs": [
    {
     "name": "stdout",
     "output_type": "stream",
     "text": [
      "2 3 5 7 11 13 17 19 23 29 31 37 41 43 47 "
     ]
    }
   ],
   "source": [
    "n = 50\n",
    "for prime in prime_generator(n):\n",
    "    print(prime, end=\" \")"
   ]
  },
  {
   "cell_type": "code",
   "execution_count": 77,
   "id": "d3c6822e-348a-440a-9c41-df87ae61feac",
   "metadata": {},
   "outputs": [],
   "source": [
    "#Q 11 :- writena code that uses  a lambda function to calculate the sum of two numbers\n",
    "add = lambda x,y: x+y"
   ]
  },
  {
   "cell_type": "code",
   "execution_count": 79,
   "id": "8d3059c6-0c51-4464-9bac-463630167bc6",
   "metadata": {},
   "outputs": [
    {
     "data": {
      "text/plain": [
       "12"
      ]
     },
     "execution_count": 79,
     "metadata": {},
     "output_type": "execute_result"
    }
   ],
   "source": [
    "add(5,7)"
   ]
  },
  {
   "cell_type": "code",
   "execution_count": 80,
   "id": "84e8a4f0-1e78-4914-98bc-af364e604051",
   "metadata": {},
   "outputs": [],
   "source": [
    "#Q 12 Write a code that uses a lambda function to calculate the square of a given number\n",
    "square = lambda x: x**2"
   ]
  },
  {
   "cell_type": "code",
   "execution_count": 81,
   "id": "21fe30fa-c238-45d3-873c-fd958ffcd01a",
   "metadata": {},
   "outputs": [
    {
     "data": {
      "text/plain": [
       "36"
      ]
     },
     "execution_count": 81,
     "metadata": {},
     "output_type": "execute_result"
    }
   ],
   "source": [
    "square(6)"
   ]
  },
  {
   "cell_type": "code",
   "execution_count": 82,
   "id": "152984c5-9d4e-429a-a674-bc23156aa4f4",
   "metadata": {},
   "outputs": [],
   "source": [
    "#Q 13 :- Write a code that uses a lambda function to check whether a given number is even or odd\n",
    "check_even_odd = lambda x: \"even\" if x % 2 == 0 else \"odd\""
   ]
  },
  {
   "cell_type": "code",
   "execution_count": 84,
   "id": "aec13f20-81c9-4a14-a275-4d7ccb68ac60",
   "metadata": {},
   "outputs": [
    {
     "data": {
      "text/plain": [
       "'odd'"
      ]
     },
     "execution_count": 84,
     "metadata": {},
     "output_type": "execute_result"
    }
   ],
   "source": [
    "check_even_odd(7)"
   ]
  },
  {
   "cell_type": "code",
   "execution_count": 85,
   "id": "005934c8-6598-46d7-ae01-244b53c0d449",
   "metadata": {},
   "outputs": [],
   "source": [
    "#Q 15 :- Write a code that uses a lambda function to concatenate two strings\n",
    "concat = lambda x,y: x+y"
   ]
  },
  {
   "cell_type": "code",
   "execution_count": 87,
   "id": "83b1b3d7-f463-4391-b663-d72363328c58",
   "metadata": {},
   "outputs": [
    {
     "data": {
      "text/plain": [
       "'deepak kumar'"
      ]
     },
     "execution_count": 87,
     "metadata": {},
     "output_type": "execute_result"
    }
   ],
   "source": [
    "concat(\"deepak \",\"kumar\")"
   ]
  },
  {
   "cell_type": "code",
   "execution_count": 88,
   "id": "86d5603b-4b8d-497a-a500-6b02a1810e20",
   "metadata": {},
   "outputs": [],
   "source": [
    "#Q 16 :- Write a code that uses a lambda function to find the maximum of three given numbers\n",
    "max_of_three = lambda a, b, c: a if (a > b and a > c) else (b if b > c else c)"
   ]
  },
  {
   "cell_type": "code",
   "execution_count": 89,
   "id": "dbe91670-e1be-4eb2-b77b-3fc3f441069d",
   "metadata": {},
   "outputs": [
    {
     "name": "stdout",
     "output_type": "stream",
     "text": [
      "The maximum of 12, 25, and 7 is 25\n"
     ]
    }
   ],
   "source": [
    "x = 12\n",
    "y = 25\n",
    "z = 7\n",
    "\n",
    "maximum = max_of_three(x, y, z)\n",
    "print(f\"The maximum of {x}, {y}, and {z} is {maximum}\")"
   ]
  },
  {
   "cell_type": "code",
   "execution_count": 121,
   "id": "2c44f10d-9ca0-4730-bca1-748d4b98ce79",
   "metadata": {},
   "outputs": [
    {
     "name": "stdout",
     "output_type": "stream",
     "text": [
      "4\n",
      "16\n",
      "36\n"
     ]
    }
   ],
   "source": [
    "#Q 17 :- Write a code that generates the squares of even numbers from a given list\n",
    "l = [1,2,3,4,5,6]\n",
    "for i in l:\n",
    "    add = i**2\n",
    "    if add%2 == 0:\n",
    "        print(add)"
   ]
  },
  {
   "cell_type": "code",
   "execution_count": 122,
   "id": "77cc64e3-1b4c-48d7-b516-cff7177a5fbf",
   "metadata": {},
   "outputs": [
    {
     "name": "stdout",
     "output_type": "stream",
     "text": [
      "40\n"
     ]
    }
   ],
   "source": [
    "#Q 18 :- Write a code that calculates the product of positive numbers from a given list\n",
    "from functools import reduce\n",
    "\n",
    "def product_of_positives(numbers):\n",
    "    positives = [x for x in numbers if x > 0]\n",
    "    if not positives:\n",
    "        return 0  # or 1, depending on how you want to define product of no numbers\n",
    "    return reduce(lambda a, b: a * b, positives)\n",
    "\n",
    "# Example usage\n",
    "input_list = [-3, 5, 0, 2, -1, 4]\n",
    "product = product_of_positives(input_list)\n",
    "print(product)\n"
   ]
  },
  {
   "cell_type": "code",
   "execution_count": 5,
   "id": "0d2e67f6-caa9-4fdd-b61f-78a5824e28a5",
   "metadata": {},
   "outputs": [
    {
     "name": "stdout",
     "output_type": "stream",
     "text": [
      "Original list: [1, 2, 3, 4, 5, 6, 7]\n",
      "Doubled odds: [2, 2, 6, 4, 10, 6, 14]\n"
     ]
    }
   ],
   "source": [
    "#Q 19 :- Write a code that doubles the values of odd numbers from a given list\n",
    "def double_odds(numbers):\n",
    "    return [num * 2 if num % 2 != 0 else num for num in numbers]\n",
    "\n",
    "original_list = [1, 2, 3, 4, 5, 6, 7]\n",
    "doubled_odds = double_odds(original_list)\n",
    "\n",
    "print(\"Original list:\", original_list)\n",
    "print(\"Doubled odds:\", doubled_odds)"
   ]
  },
  {
   "cell_type": "code",
   "execution_count": 6,
   "id": "6267b8be-0880-4229-a5e1-0fe83c67cc20",
   "metadata": {},
   "outputs": [
    {
     "name": "stdout",
     "output_type": "stream",
     "text": [
      "List: [1, 2, 3, 4, 5]\n",
      "Sum of cubes: 225\n"
     ]
    }
   ],
   "source": [
    "#Q 20 :- Write a code that calculates the sum of cubes of numbers from a given list\n",
    "def sum_of_cubes(numbers):\n",
    "    return sum(num ** 3 for num in numbers)\n",
    "\n",
    "# Example usage\n",
    "number_list = [1, 2, 3, 4, 5]\n",
    "total_cubes = sum_of_cubes(number_list)\n",
    "\n",
    "print(\"List:\", number_list)\n",
    "print(\"Sum of cubes:\", total_cubes)\n"
   ]
  },
  {
   "cell_type": "code",
   "execution_count": 7,
   "id": "03a7cbf6-882e-4801-b009-0cf2157d3d2c",
   "metadata": {},
   "outputs": [
    {
     "name": "stdout",
     "output_type": "stream",
     "text": [
      "Original list: [1, 2, 3, 4, 5, 6, 7, 8, 9, 10, 11]\n",
      "Non-prime numbers: [1, 4, 6, 8, 9, 10]\n"
     ]
    }
   ],
   "source": [
    "#Q 21 :- Write a code that filters out prime numbers from a given list\n",
    "def is_prime(n):\n",
    "    if n < 2:\n",
    "        return False\n",
    "    for i in range(2, int(n**0.5) + 1):\n",
    "        if n % i == 0:\n",
    "            return False\n",
    "    return True\n",
    "\n",
    "def filter_primes(numbers):\n",
    "    return [num for num in numbers if not is_prime(num)]\n",
    "\n",
    "number_list = [1, 2, 3, 4, 5, 6, 7, 8, 9, 10, 11]\n",
    "non_primes = filter_primes(number_list)\n",
    "\n",
    "print(\"Original list:\", number_list)\n",
    "print(\"Non-prime numbers:\", non_primes)\n"
   ]
  },
  {
   "cell_type": "code",
   "execution_count": 8,
   "id": "612aa784-9444-41b7-8f02-a91700d62c22",
   "metadata": {},
   "outputs": [
    {
     "name": "stdout",
     "output_type": "stream",
     "text": [
      "The sum of 5 and 7 is 12\n"
     ]
    }
   ],
   "source": [
    "#Q 22 :- Write a code that uses a lambda function to calculate the sum of two numbers\n",
    "# Lambda function to sum two numbers\n",
    "sum_numbers = lambda x, y: x + y\n",
    "\n",
    "a = 5\n",
    "b = 7\n",
    "result = sum_numbers(a, b)\n",
    "\n",
    "print(f\"The sum of {a} and {b} is {result}\")\n"
   ]
  },
  {
   "cell_type": "code",
   "execution_count": 11,
   "id": "1a9349b8-01ef-432a-8e10-dd5afa50db4a",
   "metadata": {},
   "outputs": [
    {
     "data": {
      "text/plain": [
       "36"
      ]
     },
     "execution_count": 11,
     "metadata": {},
     "output_type": "execute_result"
    }
   ],
   "source": [
    "#Q 23 :- Write a code that uses a lambda function to calculate the square of a given number\n",
    "square = lambda x: x**2\n",
    "\n",
    "square(6)"
   ]
  },
  {
   "cell_type": "markdown",
   "id": "a0484e3b-a3d0-4a82-a5a2-98b96d70bc3e",
   "metadata": {},
   "source": [
    "Q 27 :- What is encapsulation in OOP?\n",
    "\n",
    "Ans :- Encapsulation is one of the core concepts in Object-Oriented Programming (OOP). It refers to the practice of bundling data (attributes) and methods (functions) that operate on that data into a single unit — a class — and restricting direct access to some of the object's components.\n",
    "\n",
    "In simpler terms:-\n",
    "Encapsulation hides the internal state of an object and only allows it to be changed through well-defined methods. This helps in protecting the data from unintended interference and misuse."
   ]
  },
  {
   "cell_type": "markdown",
   "id": "8fd1e1f4-976d-4941-8db1-dca705967668",
   "metadata": {},
   "source": [
    "Q 28 :- Explain the use of access modifiers in Python classes\n",
    "\n",
    "Ans :- n Python, access modifiers are used to control the visibility and accessibility of class attributes and methods. While Python doesn't enforce strict access control like some other languages (e.g., Java or C++), it follows naming conventions to indicate how data should be accessed."
   ]
  },
  {
   "cell_type": "markdown",
   "id": "c1c081a6-3114-4e6e-9ef7-6a0da9b1aa4b",
   "metadata": {},
   "source": [
    "Q 29 :- What is inheritance in OOP\n",
    "\n",
    "Ans :- In Object-Oriented Programming (OOP), inheritance is a fundamental concept that allows a class to inherit properties and behavior (attributes and methods) from another class.\n",
    "\n",
    "What is Inheritance?\n",
    "Inheritance enables you to create a new class (called a child or subclass) that is based on an existing class (called a parent or superclass).\n",
    "The child class automatically inherits all the non-private members of the parent class, and can also have its own additional features or override existing ones."
   ]
  },
  {
   "cell_type": "markdown",
   "id": "4b842a28-be72-47dd-ab8c-48b06977d012",
   "metadata": {},
   "source": [
    "Q 30 :- Define polymorphism in OOP\n",
    "\n",
    "Ans :- What is Polymorphism in OOP?\n",
    "\n",
    "Polymorphism comes from Greek words meaning “many forms.” In Object-Oriented Programming (OOP), polymorphism allows objects of different classes to be treated as objects of a common superclass, usually through a shared interface or method.\n",
    "\n",
    "In simpler terms, the same method name can behave differently depending on the object that’s calling it."
   ]
  },
  {
   "cell_type": "markdown",
   "id": "e0cbfce2-48cd-426a-be5a-98b66e8201d1",
   "metadata": {},
   "source": [
    "Q31 :-Explain method overriding in Python\n",
    "\n",
    "Ans :- What is Method Overriding in Python?\n",
    "\n",
    "Method overriding is a feature in Object-Oriented Programming (OOP) where a subclass provides its own specific implementation of a method that is already defined in its parent class.\n",
    "This allows the subclass to change or extend the behavior of the parent class's method.\n",
    "\n",
    "Key Points:-\n",
    "\n",
    "The method name and parameters in the subclass must be the same as those in the parent class.\n",
    "The child class method replaces the behavior of the parent class method for instances of the child class.\n",
    "Method overriding is a way to implement runtime polymorphism."
   ]
  },
  {
   "cell_type": "code",
   "execution_count": 12,
   "id": "3ffdaa83-2d17-4667-8545-63ba12b8a17d",
   "metadata": {},
   "outputs": [
    {
     "name": "stdout",
     "output_type": "stream",
     "text": [
      "Generic animal sound\n",
      "Woof!\n"
     ]
    }
   ],
   "source": [
    "#Q 32 :-  Define a parent class Animal with a method make_sound that prints \"Generic animal sound\". Create a\n",
    "          #child class Dog inheriting from Animal with a method make_sound that prints \"Woof!\"\n",
    "# Parent class\n",
    "class Animal:\n",
    "    def make_sound(self):\n",
    "        print(\"Generic animal sound\")\n",
    "\n",
    "class Dog(Animal):\n",
    "    def make_sound(self):\n",
    "        print(\"Woof!\")\n",
    "\n",
    "animal = Animal()\n",
    "dog = Dog()\n",
    "\n",
    "animal.make_sound() \n",
    "dog.make_sound() \n"
   ]
  },
  {
   "cell_type": "code",
   "execution_count": 13,
   "id": "eda8145b-a0e2-4c84-abc9-84aa4ac2efd9",
   "metadata": {},
   "outputs": [
    {
     "name": "stdout",
     "output_type": "stream",
     "text": [
      "Animal moves\n",
      "Dog runs\n"
     ]
    }
   ],
   "source": [
    "#Q 33 :- Define a method move in the Animal class that prints \"Animal moves\". Override the move method in the\n",
    "         #Dog class to print \"Dog runs.\n",
    "# Parent class\n",
    "class Animal:\n",
    "    def move(self):\n",
    "        print(\"Animal moves\")\n",
    "\n",
    "class Dog(Animal):\n",
    "    def move(self):\n",
    "        print(\"Dog runs\")\n",
    "\n",
    "animal = Animal()\n",
    "dog = Dog()\n",
    "\n",
    "animal.move()\n",
    "dog.move() \n"
   ]
  },
  {
   "cell_type": "code",
   "execution_count": 15,
   "id": "88a8a628-13c8-4443-b69a-afa7039d00d6",
   "metadata": {},
   "outputs": [
    {
     "name": "stdout",
     "output_type": "stream",
     "text": [
      "Dog runs\n",
      "Giving birth to live young.\n"
     ]
    }
   ],
   "source": [
    "#Q34 :- Create a class Mammal with a method reproduce that prints \"Giving birth to live young.\" Create a class\n",
    "        #DogMammal inheriting from both Dog and Mammal\n",
    "# Parent class Animal\n",
    "class Animal:\n",
    "    def move(self):\n",
    "        print(\"Animal moves\")\n",
    "\n",
    "class Dog(Animal):\n",
    "    def move(self):\n",
    "        print(\"Dog runs\")\n",
    "\n",
    "class Mammal:\n",
    "    def reproduce(self):\n",
    "        print(\"Giving birth to live young.\")\n",
    "\n",
    "class DogMammal(Dog, Mammal):\n",
    "    pass\n",
    "\n",
    "# Example usage\n",
    "dog_mammal = DogMammal()\n",
    "\n",
    "dog_mammal.move() \n",
    "dog_mammal.reproduce() \n"
   ]
  },
  {
   "cell_type": "code",
   "execution_count": 18,
   "id": "e61403e4-c94d-45f4-8206-6caac933c426",
   "metadata": {},
   "outputs": [
    {
     "name": "stdout",
     "output_type": "stream",
     "text": [
      "Bark\n"
     ]
    }
   ],
   "source": [
    "#Q 35 :- Create a class GermanShepherd inheriting from Dog and override the make_sound method to print\n",
    "         #\"Bark\"\n",
    "class Dog:\n",
    "    def make_sound(self):\n",
    "        print(\"Woof!\")\n",
    "\n",
    "class GermanShepherd(Dog):\n",
    "    def make_sound(self):\n",
    "        print(\"Bark\")\n",
    "\n",
    "german_shepherd = GermanShepherd()\n",
    "german_shepherd.make_sound()\n"
   ]
  },
  {
   "cell_type": "code",
   "execution_count": 20,
   "id": "82b56784-b6a6-4096-934a-fb34964ac30b",
   "metadata": {},
   "outputs": [
    {
     "name": "stdout",
     "output_type": "stream",
     "text": [
      "Animal created: Generic Animal, Unknown\n",
      "Animal created: Buddy, Canine\n",
      "Dog created: Buddy, Breed: German Shepherd, Species: Canine\n"
     ]
    }
   ],
   "source": [
    "#Q 36 :-  Define constructors in both the Animal and Dog classes with different initialization parameters\n",
    "# Parent class Animal\n",
    "class Animal:\n",
    "    def __init__(self, name, species):\n",
    "        self.name = name\n",
    "        self.species = species\n",
    "        print(f\"Animal created: {self.name}, {self.species}\")\n",
    "\n",
    "class Dog(Animal):\n",
    "    def __init__(self, name, breed, species=\"Canine\"):\n",
    "\n",
    "        super().__init__(name, species)\n",
    "        self.breed = breed\n",
    "        print(f\"Dog created: {self.name}, Breed: {self.breed}, Species: {self.species}\")\n",
    "\n",
    "animal = Animal(\"Generic Animal\", \"Unknown\")\n",
    "dog = Dog(\"Buddy\", \"German Shepherd\")\n"
   ]
  },
  {
   "cell_type": "markdown",
   "id": "0d8b6377-9079-4fd9-b47d-822e5da7b594",
   "metadata": {},
   "source": [
    "\n",
    "Q 37 ;- What is abstraction in Python? How is it implemented\n",
    "\n",
    "Ans :- What is Abstraction in Python?\n",
    "\n",
    "Abstraction is one of the key concepts of Object-Oriented Programming (OOP). It refers to the concept of hiding the complex implementation details and only exposing the essential features of an object. In other words, abstraction allows you to focus on what an object does rather than how it does it.\n",
    "In Python, abstraction is typically implemented using abstract classes and abstract methods. An abstract class cannot be instantiated, and it is meant to be subclassed by other classes. An abstract method is a method that is declared in an abstract class, but does not have any implementation. Subclasses that inherit from the abstract class must provide their own implementation of these abstract methods."
   ]
  },
  {
   "cell_type": "markdown",
   "id": "516b10dd-a315-4781-a68e-c46f0766522e",
   "metadata": {},
   "source": [
    "Q 38 :-  Explain the importance of abstraction in object-oriented programming\n",
    "\n",
    "Ans :- Importance of Abstraction in Object-Oriented Programming (OOP)\n",
    "\n",
    "Abstraction is one of the key pillars of Object-Oriented Programming (OOP). It helps in simplifying complex systems by hiding unnecessary details and exposing only the essential features or behavior to the user. This makes the code easier to understand, maintain, and extend.\n",
    "Let's explore the importance of abstraction in OOP:\n",
    "\n"
   ]
  },
  {
   "cell_type": "markdown",
   "id": "3fe189f8-7ab0-4057-a40e-581f3fb0726d",
   "metadata": {},
   "source": [
    "Q39 :- How are abstract methods different from regular methods in Python\n",
    "\n",
    "Ans :- In Python, abstract methods and regular methods (also known as concrete methods) are different in terms of how they are defined, used, and implemented. Here’s a breakdown of the key differences between abstract methods and regular methods:-\n",
    "\n",
    "Definition and Purpose:-\n",
    "Abstract Methods:-\n",
    "\n",
    "An abstract method is a method that is declared in an abstract class, but it does not have any implementation in the base class.\n",
    "The primary purpose of an abstract method is to define a contract or interface that subclasses must implement.\n",
    "Abstract methods are used when you want to ensure that all subclasses provide their own implementation of certain methods.\n",
    "\n",
    "Regular Methods:-\n",
    "\n",
    "A regular method, also known as a concrete method, is a method that has a complete implementation in the class where it is defined.\n",
    "These methods define actual behavior that can be used directly by objects of that class or its subclasses."
   ]
  },
  {
   "cell_type": "markdown",
   "id": "681339a5-e670-47dd-8a78-e57157839e07",
   "metadata": {},
   "source": [
    "Q 40 :- How can you achieve abstraction using interfaces in Python\n",
    "\n",
    "Ans :- Achieving Abstraction with Interfaces in Python :-\n",
    "\n",
    "In Python, abstract classes can be used as interfaces. Abstract classes are provided by the abc module (Abstract Base Class), and they allow you to define methods that must be implemented in any derived class, similar to how interfaces work in other languages.\n",
    "You can create an interface-like structure by defining an abstract class with only abstract methods and no implementation."
   ]
  },
  {
   "cell_type": "markdown",
   "id": "0b9364b3-f653-4412-9858-a88f86018e4c",
   "metadata": {},
   "source": [
    "Q 41 :- Can you provide an example of how abstraction can be utilized to create a common interface for a group\n",
    "         of related classes in Python\n",
    "\n",
    "Ans :- Absolutely! Let's walk through an example where we use abstraction to create a common interface for a group of related classes in Python. We'll define an abstract base class (ABC) that acts as an interface, and then we'll have multiple concrete classes implement this interface.\n",
    "\n",
    "Problem :-\n",
    "Let's say we have a set of classes representing different types of shapes (like Circle, Rectangle, and Triangle). Each shape needs to calculate its area and perimeter, but the formula for calculating area and perimeter will be different for each shape.\n",
    "We can define a common interface (abstract base class) Shape that forces each shape to implement methods for calculating area and perimeter. This ensures consistency across the classes, allowing us to treat different shapes uniformly.\n"
   ]
  },
  {
   "cell_type": "markdown",
   "id": "28de6de7-4f0f-4906-92ff-f585a59fa9be",
   "metadata": {},
   "source": [
    "Q 42 :- How does Python achieve polymorphism through method overridinga\n",
    "\n",
    "Ans :- Parent Class (Animal):\n",
    "\n",
    "The Animal class has a method make_sound(), which prints \"Some generic animal sound\". This is the base or default behavior for all animals.\n",
    "Child Classes (Dog and Cat):-\n",
    "\n",
    "Both Dog and Cat inherit from the Animal class and override the make_sound() method.\n",
    "Dog overrides make_sound() to print \"Woof!\".\n",
    "Cat overrides make_sound() to print \"Meow!\".\n",
    "\n",
    "Polymorphism in Action:-\n",
    "\n",
    "The function animal_sound() takes an object of type Animal as an argument. This function calls the make_sound() method on the passed object.\n",
    "When we pass a Dog object, the overridden make_sound() method in the Dog class is called, printing \"Woof!\".\n",
    "When we pass a Cat object, the overridden make_sound() method in the Cat class is called, printing \"Meow!\".\n",
    "This is polymorphism because the method make_sound() behaves differently depending on the type of the object passed to it (even though it is called the same way)."
   ]
  },
  {
   "cell_type": "code",
   "execution_count": 21,
   "id": "0ce4b552-b51b-4683-b234-ab3c0718b310",
   "metadata": {},
   "outputs": [
    {
     "name": "stdout",
     "output_type": "stream",
     "text": [
      "Some generic animal sound\n",
      "Woof!\n"
     ]
    }
   ],
   "source": [
    "#Q 43 :- Define a base class with a method and a subclass that overrides the method\n",
    "class Animal:\n",
    "    def make_sound(self):\n",
    "        print(\"Some generic animal sound\")\n",
    "\n",
    "class Dog(Animal):\n",
    "    def make_sound(self):\n",
    "        print(\"Woof!\")\n",
    "\n",
    "generic_animal = Animal()\n",
    "generic_animal.make_sound() \n",
    "\n",
    "dog = Dog()\n",
    "dog.make_sound() \n"
   ]
  },
  {
   "cell_type": "code",
   "execution_count": 23,
   "id": "f5280153-7b63-444d-b845-4d0bbe466793",
   "metadata": {},
   "outputs": [
    {
     "name": "stdout",
     "output_type": "stream",
     "text": [
      "Woof!\n",
      "Meow!\n",
      "Moo!\n"
     ]
    }
   ],
   "source": [
    "#Q 44 :-  Define a base class and multiple subclasses with overridden methods\n",
    "class Animal:\n",
    "    def make_sound(self):\n",
    "        print(\"Some generic animal sound\")\n",
    "\n",
    "class Dog(Animal):\n",
    "    def make_sound(self):\n",
    "        print(\"Woof!\")\n",
    "        \n",
    "class Cat(Animal):\n",
    "    def make_sound(self):\n",
    "        print(\"Meow!\")\n",
    "\n",
    "class Cow(Animal):\n",
    "    def make_sound(self):\n",
    "        print(\"Moo!\")\n",
    "\n",
    "def animal_speak(animal):\n",
    "    animal.make_sound()\n",
    "\n",
    "animals = [Dog(), Cat(), Cow()]\n",
    "\n",
    "for animal in animals:\n",
    "    animal_speak(animal)\n"
   ]
  },
  {
   "cell_type": "markdown",
   "id": "109ee74e-a241-40b3-a9c1-c6bbc962df80",
   "metadata": {},
   "source": [
    "Q 45 :-  How does polymorphism improve code readability and reusability\n",
    "\n",
    "Ans :- What is Polymorphism (Quick Recap)\n",
    "Polymorphism allows different classes to be treated through a common interface, typically by overriding the same method (like .make_sound() in animals). Python determines which version to call at runtime, depending on the object."
   ]
  },
  {
   "cell_type": "markdown",
   "id": "c8e52eec-657c-409d-8958-e82e476c2856",
   "metadata": {},
   "source": [
    "Q46 :- Describe how Python supports polymorphism with duck typing\n",
    "\n",
    "Ans :- What is Duck Typing?\n",
    "The name comes from the phrase:\n",
    "\n",
    "\"If it looks like a duck, swims like a duck, and quacks like a duck, then it probably is a duck.\"\n",
    "In Python, duck typing means that the type of an object doesn't matter — what matters is whether it has the required behavior (methods or properties). Python focuses on what an object can do, not what it is.\n",
    "\n",
    "Duck Typing & Polymorphism :-\n",
    "\n",
    "In classic OOP languages like Java or C++, polymorphism is often enforced using explicit interfaces or inheritance.\n",
    "But in Python, you can achieve polymorphism without requiring inheritance, as long as objects implement the same methods.\n",
    "\n"
   ]
  },
  {
   "cell_type": "markdown",
   "id": "83c3f22a-3337-48c5-92e1-b71f34843ddb",
   "metadata": {},
   "source": [
    "Q 47 :-  How do you achieve encapsulation in Python\n",
    "\n",
    "Ans :- Python does not enforce strict access control like some languages (e.g., Java or C++), but it provides naming conventions and mechanisms to simulate private and protected members.\n"
   ]
  },
  {
   "cell_type": "markdown",
   "id": "04dc4242-f2c3-44a9-b100-c526dd351b44",
   "metadata": {},
   "source": [
    "Q 48 :- Can encapsulation be bypassed in Python? If so, how\n",
    "\n",
    "Ans :- Protected Members (_single_underscore)\n",
    "By convention:-\n",
    "A single underscore (e.g. _balance) tells others: \"This is internal — don’t touch it.\"\n",
    "But Python won't stop you:\n",
    "\n",
    "Private Members (__double_underscore)\n",
    "Double underscores trigger name mangling, which means Python internally renames the variable to avoid accidental access — not to make it truly private."
   ]
  },
  {
   "cell_type": "code",
   "execution_count": 25,
   "id": "dd160823-3694-465e-8ca2-a9dedb46a6c0",
   "metadata": {},
   "outputs": [],
   "source": [
    "#Q 49 :- Implement a class BankAccount with a private balance attribute. Include methods to deposit, withdraw,\n",
    "         #and check the balance\n",
    "class BankAccount:\n",
    "    def __init__(self, initial_balance=0):\n",
    "        self.__balance = initial_balance \n",
    "\n",
    "    def deposit(self, amount):\n",
    "        if amount > 0:\n",
    "            self.__balance += amount\n",
    "            print(f\"Deposited ${amount}.\")\n",
    "        else:\n",
    "            print(\"Deposit amount must be positive.\")\n",
    "\n",
    "    def withdraw(self, amount):\n",
    "        if amount <= 0:\n",
    "            print(\"Withdrawal amount must be positive.\")\n",
    "        elif amount > self.__balance:\n",
    "            print(\"Insufficient funds.\")\n",
    "        else:\n",
    "            self.__balance -= amount\n",
    "            print(f\"Withdrew ${amount}.\")\n",
    "\n",
    "    def check_balance(self):\n",
    "        print(f\"Current balance: ${self.__balance}\")\n",
    "        return self.__balance\n"
   ]
  },
  {
   "cell_type": "code",
   "execution_count": 27,
   "id": "5c0ca6db-10d6-4d20-aba1-79e7aef09077",
   "metadata": {},
   "outputs": [
    {
     "name": "stdout",
     "output_type": "stream",
     "text": [
      "Current balance: $1000\n",
      "Deposited $500.\n",
      "Withdrew $200.\n",
      "Current balance: $1300\n"
     ]
    },
    {
     "data": {
      "text/plain": [
       "1300"
      ]
     },
     "execution_count": 27,
     "metadata": {},
     "output_type": "execute_result"
    }
   ],
   "source": [
    "account = BankAccount(1000)\n",
    "account.check_balance() \n",
    "account.deposit(500)  \n",
    "account.withdraw(200)  \n",
    "account.check_balance() \n"
   ]
  },
  {
   "cell_type": "code",
   "execution_count": 28,
   "id": "52227e8f-b27c-4ca7-8f23-54bdc03511c7",
   "metadata": {},
   "outputs": [],
   "source": [
    "#Q 50 :- Develop a Person class with private attributes name and email, and methods to set and get the email\n",
    "class Person:\n",
    "    def __init__(self, name, email):\n",
    "        self.__name = name   \n",
    "        self.__email = email \n",
    "        \n",
    "    def set_email(self, new_email):\n",
    "        if \"@\" in new_email and \".\" in new_email:\n",
    "            self.__email = new_email\n",
    "            print(\"Email updated.\")\n",
    "        else:\n",
    "            print(\"Invalid email address.\")\n",
    "            \n",
    "    def get_email(self):\n",
    "        return self.__email\n"
   ]
  },
  {
   "cell_type": "code",
   "execution_count": 29,
   "id": "b4c1ab45-1252-41ea-8736-7898515955e3",
   "metadata": {},
   "outputs": [
    {
     "name": "stdout",
     "output_type": "stream",
     "text": [
      "alice@example.com\n",
      "Email updated.\n",
      "alice.new@email.com\n",
      "Invalid email address.\n"
     ]
    }
   ],
   "source": [
    "person = Person(\"Alice\", \"alice@example.com\")\n",
    "print(person.get_email())\n",
    "person.set_email(\"alice.new@email.com\")\n",
    "print(person.get_email())\n",
    "person.set_email(\"invalid-email\")\n"
   ]
  },
  {
   "cell_type": "markdown",
   "id": "bb0c0666-715b-42c1-bf2e-aeacf622b701",
   "metadata": {},
   "source": [
    "#Q 51 :- Why is encapsulation considered a pillar of object-oriented programming (OOP)?\n",
    "\n",
    "Ans :- Why Encapsulation is a Pillar of OOP\n",
    " Data Protection / Hiding\n",
    "It prevents external code from directly accessing and potentially corrupting internal object states.\n",
    "Example: You can make variables private so they can't be changed arbitrarily from outside the class.\n",
    "\n",
    " Modularity\n",
    "Objects manage their own state and behavior, making it easier to understand, develop, and test code in isolation.\n",
    "\n",
    " Ease of Maintenance\n",
    "If internal implementation changes, the public interface can remain the same — this minimizes the impact on other parts of the program (a key part of abstraction).\n",
    "\n",
    " Control\n",
    "You can add validation logic in setters to enforce constraints, e.g., ensuring an age can't be negative.\n",
    "\n",
    " Improved Flexibility and Scalability\n",
    "Since internal workings are hidden, you can change the implementation later (e.g., changing how data is stored) without affecting external code."
   ]
  },
  {
   "cell_type": "code",
   "execution_count": 3,
   "id": "7b225404-1667-424d-a6b0-463db60dcf95",
   "metadata": {},
   "outputs": [],
   "source": [
    "#Q 52 Create a decorator in Python that adds functionality to a simple function by printing a message before\n",
    "      #and after the function execution/\n",
    "def my_decorator(func):\n",
    "    def wrapper(*args, **kwargs):\n",
    "        print(\">> Function is about to run.\")\n",
    "        result = func(*args, **kwargs)\n",
    "        print(\">> Function has finished running.\")\n",
    "        return result\n",
    "    return wrapper"
   ]
  },
  {
   "cell_type": "code",
   "execution_count": 4,
   "id": "7c0495f2-0ca9-46d6-8662-02f60b7daedc",
   "metadata": {},
   "outputs": [
    {
     "name": "stdout",
     "output_type": "stream",
     "text": [
      ">> Function is about to run.\n",
      "Hello, Alice!\n",
      ">> Function has finished running.\n"
     ]
    }
   ],
   "source": [
    "@my_decorator\n",
    "def greet(name):\n",
    "    print(f\"Hello, {name}!\")\n",
    "\n",
    "greet(\"Alice\")"
   ]
  },
  {
   "cell_type": "code",
   "execution_count": 5,
   "id": "959c35bc-a425-4848-9c63-9000266881a2",
   "metadata": {},
   "outputs": [],
   "source": [
    "#Q 53 :- Modify the decorator to accept arguments and print the function name along with the message\n",
    "import functools\n",
    "\n",
    "def custom_logger(before_message, after_message):\n",
    "    def decorator(func):\n",
    "        @functools.wraps(func)\n",
    "        def wrapper(*args, **kwargs):\n",
    "            print(f\"{before_message} - Executing: {func.__name__}\")\n",
    "            result = func(*args, **kwargs)\n",
    "            print(f\"{after_message} - Finished: {func.__name__}\")\n",
    "            return result\n",
    "        return wrapper\n",
    "    return decorator"
   ]
  },
  {
   "cell_type": "code",
   "execution_count": 7,
   "id": "1db03053-bd43-4426-9f61-04d68aaa54bb",
   "metadata": {},
   "outputs": [
    {
     "name": "stdout",
     "output_type": "stream",
     "text": [
      "Starting - Executing: say_hello\n",
      "Hello, Sam!\n",
      " Done - Finished: say_hello\n"
     ]
    }
   ],
   "source": [
    "@custom_logger(\"Starting\", \" Done\")\n",
    "def say_hello(name):\n",
    "    print(f\"Hello, {name}!\")\n",
    "\n",
    "say_hello(\"Sam\")\n"
   ]
  },
  {
   "cell_type": "code",
   "execution_count": 10,
   "id": "56af567b-117f-4269-b85d-b1b3a06deae5",
   "metadata": {},
   "outputs": [],
   "source": [
    "#Q 54 :- Create two decorators, and apply them to a single function. Ensure that they execute in the order they are\n",
    "         #applied\n",
    "def decorator_one(func):\n",
    "    def wrapper(*args, **kwargs):\n",
    "        print(\"[Decorator One] Before function\")\n",
    "        result = func(*args, **kwargs)\n",
    "        print(\"[Decorator One] After function\")\n",
    "        return result\n",
    "    return wrapper\n",
    "\n",
    "def decorator_two(func):\n",
    "    def wrapper(*args, **kwargs):\n",
    "        print(\"[Decorator Two] Before function\")\n",
    "        result = func(*args, **kwargs)\n",
    "        print(\"[Decorator Two] After function\")\n",
    "        return result\n",
    "    return wrapper"
   ]
  },
  {
   "cell_type": "code",
   "execution_count": 11,
   "id": "c4f06522-48d9-4390-ad5f-12b8efa7bc57",
   "metadata": {},
   "outputs": [
    {
     "name": "stdout",
     "output_type": "stream",
     "text": [
      "[Decorator One] Before function\n",
      "[Decorator Two] Before function\n",
      "Running the main function\n",
      "[Decorator Two] After function\n",
      "[Decorator One] After function\n"
     ]
    }
   ],
   "source": [
    "@decorator_one\n",
    "@decorator_two\n",
    "def my_function():\n",
    "    print(\"Running the main function\")\n",
    "\n",
    "my_function()"
   ]
  },
  {
   "cell_type": "code",
   "execution_count": 14,
   "id": "2766e16b-19b7-4e23-a04e-cc4f825f9e1f",
   "metadata": {},
   "outputs": [],
   "source": [
    "#Q 55 :- Modify the decorator to accept and pass function arguments to the wrapped function\n",
    "def decorator_one(func):\n",
    "    def wrapper(*args, **kwargs):\n",
    "        print(\"[Decorator One] Before function\")\n",
    "        result = func(*args, **kwargs)\n",
    "        print(\"[Decorator One] After function\")\n",
    "        return result\n",
    "    return wrapper\n",
    "\n",
    "def decorator_two(func):\n",
    "    def wrapper(*args, **kwargs):\n",
    "        print(\"[Decorator Two] Before function\")\n",
    "        result = func(*args, **kwargs)\n",
    "        print(\"[Decorator Two] After function\")\n",
    "        return result\n",
    "    return wrapper"
   ]
  },
  {
   "cell_type": "code",
   "execution_count": 15,
   "id": "ddbab9a6-2641-48fc-a4d9-12ba3a460f97",
   "metadata": {},
   "outputs": [
    {
     "name": "stdout",
     "output_type": "stream",
     "text": [
      "[Decorator One] Before function\n",
      "[Decorator Two] Before function\n",
      "Hello, Alice!\n",
      "[Decorator Two] After function\n",
      "[Decorator One] After function\n",
      "[Decorator One] Before function\n",
      "[Decorator Two] Before function\n",
      "Hi, Bob!\n",
      "[Decorator Two] After function\n",
      "[Decorator One] After function\n"
     ]
    }
   ],
   "source": [
    "@decorator_one\n",
    "@decorator_two\n",
    "def greet(name, greeting=\"Hello\"):\n",
    "    print(f\"{greeting}, {name}!\")\n",
    "\n",
    "greet(\"Alice\")\n",
    "greet(\"Bob\", greeting=\"Hi\")\n"
   ]
  },
  {
   "cell_type": "code",
   "execution_count": 18,
   "id": "c39cc0ad-2fba-4c78-8652-ce46e82cbe25",
   "metadata": {},
   "outputs": [],
   "source": [
    "#Q 56 :- Create a decorator that preserves the metadata of the original function\n",
    "import functools\n",
    "\n",
    "def preserve_metadata_decorator(func):\n",
    "    @functools.wraps(func)\n",
    "    def wrapper(*args, **kwargs):\n",
    "        print(\"Running decorated function...\")\n",
    "        return func(*args, **kwargs)\n",
    "    return wrapper"
   ]
  },
  {
   "cell_type": "code",
   "execution_count": 19,
   "id": "3ce75b03-3a19-48b0-b48a-40ed1d0ed083",
   "metadata": {},
   "outputs": [
    {
     "name": "stdout",
     "output_type": "stream",
     "text": [
      "Running decorated function...\n",
      "Hello, Alice!\n",
      "greet\n",
      "Returns a friendly greeting.\n",
      "{'name': <class 'str'>, 'return': <class 'str'>}\n"
     ]
    }
   ],
   "source": [
    "@preserve_metadata_decorator\n",
    "def greet(name: str) -> str:\n",
    "    \"\"\"Returns a friendly greeting.\"\"\"\n",
    "    return f\"Hello, {name}!\"\n",
    "\n",
    "print(greet(\"Alice\"))\n",
    "print(greet.__name__)     \n",
    "print(greet.__doc__)      \n",
    "print(greet.__annotations__) \n"
   ]
  },
  {
   "cell_type": "code",
   "execution_count": 22,
   "id": "62985bcd-9105-497f-b66a-33188d75561d",
   "metadata": {},
   "outputs": [],
   "source": [
    "#Q 57 :- Create a Python class `Calculator` with a static method `add` that takes in two numbers and returns their\n",
    "         #sum\n",
    "class Calculator:\n",
    "    @staticmethod\n",
    "    def add(a, b):\n",
    "        return a + b"
   ]
  },
  {
   "cell_type": "code",
   "execution_count": 23,
   "id": "40aacdf5-10af-4906-a741-fa74360c8ada",
   "metadata": {},
   "outputs": [
    {
     "name": "stdout",
     "output_type": "stream",
     "text": [
      "Sum: 12\n"
     ]
    }
   ],
   "source": [
    "result = Calculator.add(5, 7)\n",
    "print(\"Sum:\", result)"
   ]
  },
  {
   "cell_type": "code",
   "execution_count": 26,
   "id": "12063bb6-4b3a-4764-adf8-8a9ac9e7682f",
   "metadata": {},
   "outputs": [],
   "source": [
    "#Q 58 :- Create a Python class `Employee` with a class `method get_employee_count` that returns the total\n",
    "         #number of employees created\n",
    "class Employee:\n",
    "    _employee_count = 0 \n",
    "\n",
    "    def __init__(self, name):\n",
    "        self.name = name\n",
    "        Employee._employee_count += 1\n",
    "\n",
    "    @classmethod\n",
    "    def get_employee_count(cls):\n",
    "        return cls._employee_count"
   ]
  },
  {
   "cell_type": "code",
   "execution_count": 27,
   "id": "8fdd9d3b-ce42-40aa-9a16-1cc1fdb8662f",
   "metadata": {},
   "outputs": [
    {
     "name": "stdout",
     "output_type": "stream",
     "text": [
      "Total Employees: 3\n"
     ]
    }
   ],
   "source": [
    "e1 = Employee(\"Alice\")\n",
    "e2 = Employee(\"Bob\")\n",
    "e3 = Employee(\"Charlie\")\n",
    "\n",
    "print(\"Total Employees:\", Employee.get_employee_count())"
   ]
  },
  {
   "cell_type": "code",
   "execution_count": 30,
   "id": "3392d3b4-f9e1-40c5-acce-6a786e90f053",
   "metadata": {},
   "outputs": [],
   "source": [
    "#Q 59 :- Create a Python class `StringFormatter` with a static method `reverse_string` that takes a string as input\n",
    "         #and returns its reverse\n",
    "class StringFormatter:\n",
    "    @staticmethod\n",
    "    def reverse_string(text):\n",
    "        return text[::-1]"
   ]
  },
  {
   "cell_type": "code",
   "execution_count": 31,
   "id": "af1fcf2f-d649-4664-aaae-bffad00e1f6b",
   "metadata": {},
   "outputs": [
    {
     "name": "stdout",
     "output_type": "stream",
     "text": [
      "Reversed: olleh\n"
     ]
    }
   ],
   "source": [
    "reversed_text = StringFormatter.reverse_string(\"hello\")\n",
    "print(\"Reversed:\", reversed_text) "
   ]
  },
  {
   "cell_type": "code",
   "execution_count": 32,
   "id": "c0cc8f3e-9e8d-43a6-9a82-ed43d30dedfc",
   "metadata": {},
   "outputs": [],
   "source": [
    "#Q 60 :- Create a Python class `Circle` with a class method `calculate_area` that calculates the area of a circle\n",
    "         #given its radius\n",
    "import math\n",
    "\n",
    "class Circle:\n",
    "    @classmethod\n",
    "    def calculate_area(cls, radius):\n",
    "        return math.pi * radius ** 2"
   ]
  },
  {
   "cell_type": "code",
   "execution_count": 33,
   "id": "bf1ca762-9037-4e85-a894-a91557181fcd",
   "metadata": {},
   "outputs": [
    {
     "name": "stdout",
     "output_type": "stream",
     "text": [
      "Area of circle: 78.53981633974483\n"
     ]
    }
   ],
   "source": [
    "area = Circle.calculate_area(5)\n",
    "print(\"Area of circle:\", area)  "
   ]
  },
  {
   "cell_type": "code",
   "execution_count": 34,
   "id": "aead9630-c5d1-43b9-99d3-08169504ff3f",
   "metadata": {},
   "outputs": [],
   "source": [
    "#Q 61 :- Create a Python class `TemperatureConverter` with a static method `celsius_to_fahrenheit` that converts\n",
    "         #Celsius to Fahrenheit\n",
    "class TemperatureConverter:\n",
    "    @staticmethod\n",
    "    def celsius_to_fahrenheit(celsius):\n",
    "        return (celsius * 9/5) + 32"
   ]
  },
  {
   "cell_type": "code",
   "execution_count": 35,
   "id": "36324bbc-690f-4aa0-a584-d55b5742decf",
   "metadata": {},
   "outputs": [
    {
     "name": "stdout",
     "output_type": "stream",
     "text": [
      "25°C in Fahrenheit is: 77.0\n"
     ]
    }
   ],
   "source": [
    "fahrenheit = TemperatureConverter.celsius_to_fahrenheit(25)\n",
    "print(\"25°C in Fahrenheit is:\", fahrenheit) "
   ]
  },
  {
   "cell_type": "code",
   "execution_count": 36,
   "id": "a780bf82-6b5d-4548-b887-2cec31c44912",
   "metadata": {},
   "outputs": [
    {
     "name": "stdout",
     "output_type": "stream",
     "text": [
      "Person(Name: Alice, Age: 30)\n"
     ]
    }
   ],
   "source": [
    "#Q 62 :- What is the purpose of the __str__() method in Python classes? Provide an exampl\n",
    "class Person:\n",
    "    def __init__(self, name, age):\n",
    "        self.name = name\n",
    "        self.age = age\n",
    "\n",
    "    def __str__(self):\n",
    "        return f\"Person(Name: {self.name}, Age: {self.age})\"\n",
    "\n",
    "person = Person(\"Alice\", 30)\n",
    "print(person)"
   ]
  },
  {
   "cell_type": "code",
   "execution_count": 38,
   "id": "137b807d-c5b5-4519-bd5d-18db1fa30a86",
   "metadata": {},
   "outputs": [
    {
     "name": "stdout",
     "output_type": "stream",
     "text": [
      "5\n"
     ]
    }
   ],
   "source": [
    "#Q 63 :-  How does the __len__() method work in Python? Provide an example\n",
    "class Box:\n",
    "    def __init__(self, items):\n",
    "        self.items = items\n",
    "\n",
    "    def __len__(self):\n",
    "        return len(self.items)\n",
    "\n",
    "my_box = Box([1, 2, 3, 4, 5])\n",
    "\n",
    "print(len(my_box)) "
   ]
  },
  {
   "cell_type": "markdown",
   "id": "b5cf5761-aa12-4771-8e2e-cc25126a0af7",
   "metadata": {},
   "source": [
    "Q 64 :- Explain the usage of the __add__() method in Python classes. Provide an example\n",
    "\n",
    "Ans :- The __add__() method in Python is a special method that defines the behavior of the addition operator (+) for objects of a class. By implementing __add__(), you can control how two objects of your class are added together.\n",
    "\n",
    "Purpose:-\n",
    "The __add__() method is called when you use the + operator between two instances of your class.\n",
    "This method should return a new object, typically of the same type, that represents the result of the addition."
   ]
  },
  {
   "cell_type": "markdown",
   "id": "b8b2c66c-b6de-4986-91dd-5274c23b1d73",
   "metadata": {},
   "source": [
    " Q 65 :-What is the purpose of the __getitem__() method in Python? Provide an example\n",
    "\n",
    " Ans :- The __getitem__() method in Python is a special method used to define the behavior when an object is accessed using square brackets []. This method is commonly used to make custom objects behave like sequences (e.g., lists, tuples) or mappings (e.g., dictionaries), allowing you to retrieve items from the object.\n",
    "\n",
    "Purpose:-\n",
    "The __getitem__() method allows you to access elements in an object using the [] notation, similar to how you access elements in a list or dictionary.\n",
    "It's typically used to enable custom objects to support indexing, slicing, or key-based retrieval of values."
   ]
  },
  {
   "cell_type": "code",
   "execution_count": 41,
   "id": "0ff9da70-3b2b-4922-bf60-8bf437b537ba",
   "metadata": {},
   "outputs": [],
   "source": [
    "#Q 66 Explain the usage of the __iter__() and __next__() methods in Python. Provide an example using\n",
    "      #iterators\n",
    "class Fibonacci:\n",
    "    def __init__(self, n):\n",
    "        self.n = n\n",
    "        self.a, self.b = 0, 1\n",
    "        self.count = 0\n",
    "\n",
    "    def __iter__(self):\n",
    "        return self \n",
    "\n",
    "    def __next__(self):\n",
    "        if self.count >= self.n:\n",
    "            raise StopIteration\n",
    "        self.count += 1\n",
    "        self.a, self.b = self.b, self.a + self.b \n",
    "        return self.a\n"
   ]
  },
  {
   "cell_type": "code",
   "execution_count": 42,
   "id": "afe459b4-ffd8-4415-863a-08b0bca43de5",
   "metadata": {},
   "outputs": [
    {
     "name": "stdout",
     "output_type": "stream",
     "text": [
      "1\n",
      "1\n",
      "2\n",
      "3\n",
      "5\n"
     ]
    }
   ],
   "source": [
    "fibonacci_sequence = Fibonacci(5)\n",
    "\n",
    "for num in fibonacci_sequence:\n",
    "    print(num)\n"
   ]
  },
  {
   "cell_type": "markdown",
   "id": "77df1c09-3590-4e1c-8fd0-38f8e72659ae",
   "metadata": {},
   "source": [
    "Q 67 :- What is the purpose of a getter method in Python? Provide an example demonstrating the use of a getter\n",
    "         #method using property decorators\n",
    "\n",
    "Ans :- Purpose of a Getter Method:\n",
    "Encapsulation: It allows you to hide the internal state of an object and provides a controlled way to access it.\n",
    "Validation: You can add logic to check or manipulate the attribute value before returning it.\n",
    "Read-Only Attributes: You can create attributes that are read-only by providing only a getter method and not a setter."
   ]
  },
  {
   "cell_type": "markdown",
   "id": "420cd5ef-9cdf-4dbd-af1f-acb6da0efe88",
   "metadata": {},
   "source": [
    "Q 68 :- / Explain the role of setter methods in Python. Demonstrate how to use a setter method to modify a class\n",
    "           #attribute using property decorators\n",
    "\n",
    "Ans :- Purpose of Setter Methods:\n",
    "Validation: A setter allows you to validate the data before changing the value of the attribute.\n",
    "Encapsulation: Setter methods allow you to encapsulate the internal state of the object, ensuring that no invalid values are directly assigned.\n",
    "Business Logic: You can add additional logic when the attribute is modified (e.g., automatic recalculations, logging, etc.).\n",
    "Syntax of a Setter Method using the @property decorator:\n",
    "@property: Defines a getter method.\n",
    "@<attribute>.setter: Defines a setter method for the attribute.\n",
    "Example: Using a Setter Method with Property Decorators\n",
    "Let’s create a class Rectangle with an attribute width. We’ll use a setter to ensure that the width can only be a positive value.\n",
    "python\n",
    "Copy\n",
    "Edit"
   ]
  },
  {
   "cell_type": "markdown",
   "id": "0a9cb79e-6462-4bfd-8706-a7145efa0af8",
   "metadata": {},
   "source": [
    "Q 68 :- What is the purpose of the @property decorator in Python? Provide an example illustrating its usageabs\n",
    "\n",
    "Ans :- Purpose of @property Decorator:\n",
    "Encapsulation: It allows you to hide the internal details of a class while providing a controlled interface to access or modify the attribute.\n",
    "Computed Properties: It can be used to calculate and return values dynamically when the attribute is accessed.\n",
    "Read-Only Attributes: By using only a getter and not defining a setter, you can create read-only attributes.\n",
    "\n",
    "How It Works:-\n",
    "You define a method and decorate it with @property.\n",
    "When the attribute is accessed (using obj.attribute), Python calls the decorated method.\n",
    "You can also use @property along with @<attribute>.setter to define a setter method, allowing controlled modification of the attribute."
   ]
  },
  {
   "cell_type": "markdown",
   "id": "2a05256e-6351-458d-b224-9e52e5922b9b",
   "metadata": {},
   "source": [
    "Q 69 :- Explain the use of the @deleter decorator in Python property decorators. Provide a code example\n",
    "         demonstrating its application\n",
    "\n",
    "Ans :- Purpose of the @deleter Decorator:\n",
    "Custom Deletion Logic: You can implement custom logic when an attribute is deleted, such as raising an exception or performing additional cleanup.\n",
    "Encapsulation: The @deleter allows you to encapsulate the deletion behavior of an attribute, ensuring that deletion is done safely or correctly.\n",
    "Prevent Deletion: You can raise an exception within a deleter method to prevent an attribute from being deleted."
   ]
  },
  {
   "cell_type": "markdown",
   "id": "f4593a3c-a0a7-4790-8839-07ee91a265d2",
   "metadata": {},
   "source": [
    "Q 71 How does encapsulation relate to property decorators in Python? Provide an example showcasing\n",
    "encapsulation using property decorators.\n",
    "\n",
    "Ans :- Encapsulation in Object-Oriented Programming (OOP)\n",
    "Encapsulation is one of the fundamental principles of OOP and refers to the bundling of data (attributes) and methods (functions) that operate on the data into a single unit, or class. It also involves restricting direct access to some of an object's components, which is often achieved by making some attributes private and providing controlled access to them through getter and setter methods.\n",
    "In Python, encapsulation can be achieved using property decorators to:\n",
    "Control access to an attribute (using getter methods).\n",
    "Control the modification of an attribute (using setter methods).\n",
    "Prevent deletion or modification of an attribute (using deleter methods).\n",
    "This allows you to hide the internal state of an object and expose a controlled interface for interacting with it."
   ]
  },
  {
   "cell_type": "code",
   "execution_count": null,
   "id": "f7dedcf7-47b3-4ddd-9433-b58d3d89dfba",
   "metadata": {},
   "outputs": [],
   "source": []
  }
 ],
 "metadata": {
  "kernelspec": {
   "display_name": "Python 3 (ipykernel)",
   "language": "python",
   "name": "python3"
  },
  "language_info": {
   "codemirror_mode": {
    "name": "ipython",
    "version": 3
   },
   "file_extension": ".py",
   "mimetype": "text/x-python",
   "name": "python",
   "nbconvert_exporter": "python",
   "pygments_lexer": "ipython3",
   "version": "3.12.7"
  }
 },
 "nbformat": 4,
 "nbformat_minor": 5
}
